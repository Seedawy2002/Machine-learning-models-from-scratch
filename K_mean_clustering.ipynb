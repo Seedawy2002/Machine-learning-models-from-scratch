{
  "nbformat": 4,
  "nbformat_minor": 0,
  "metadata": {
    "colab": {
      "provenance": []
    },
    "kernelspec": {
      "name": "python3",
      "display_name": "Python 3"
    },
    "language_info": {
      "name": "python"
    }
  },
  "cells": [
    {
      "cell_type": "markdown",
      "source": [
        "**Importing**"
      ],
      "metadata": {
        "id": "tnLukMWr1lKR"
      }
    },
    {
      "cell_type": "code",
      "source": [
        "import numpy as np\n",
        "from sklearn.datasets import fetch_openml\n",
        "from copy import deepcopy\n",
        "import matplotlib.pyplot as plt\n",
        "\n",
        "from sklearn.metrics import silhouette_score"
      ],
      "metadata": {
        "id": "fXtCBOkne9YU"
      },
      "execution_count": null,
      "outputs": []
    },
    {
      "cell_type": "code",
      "source": [
        "import random as rd\n",
        "from sklearn import preprocessing"
      ],
      "metadata": {
        "id": "IMkmx6Qv1h1k"
      },
      "execution_count": null,
      "outputs": []
    },
    {
      "cell_type": "code",
      "source": [
        "from sklearn import datasets\n",
        "from keras.datasets import mnist"
      ],
      "metadata": {
        "id": "x5hRYiDi1h1l"
      },
      "execution_count": null,
      "outputs": []
    },
    {
      "cell_type": "code",
      "source": [
        "import pandas as pd\n",
        "\n",
        "import itertools\n",
        "\n",
        "from sklearn.preprocessing import LabelEncoder\n",
        "from sklearn.preprocessing import StandardScaler\n",
        "from sklearn.model_selection import cross_val_score\n",
        "from sklearn.model_selection import train_test_split\n",
        "from sklearn import metrics\n",
        "from sklearn.model_selection import GridSearchCV\n",
        "from sklearn.preprocessing import StandardScaler\n",
        "from sklearn.svm import SVC\n",
        "\n",
        "import matplotlib.gridspec as gridspec\n",
        "\n",
        "from mlxtend.plotting import plot_decision_regions\n",
        "from mlxtend.preprocessing import shuffle_arrays_unison\n",
        "\n",
        "import seaborn as sns\n",
        "\n",
        "from tqdm.notebook import tqdm_notebook as tqdm"
      ],
      "metadata": {
        "id": "aG1ymLKd1h1m"
      },
      "execution_count": null,
      "outputs": []
    },
    {
      "cell_type": "markdown",
      "source": [
        "**My model implementation (Neural network with one layer)**"
      ],
      "metadata": {
        "id": "TDlyUHgbEdcT"
      }
    },
    {
      "cell_type": "code",
      "source": [
        "#Creating random Ws\n",
        "def random_w(rows, columns, seed):\n",
        "  rd.seed(seed)\n",
        "  return [[rd.random() for i in range(columns)] for j in range(rows)]"
      ],
      "metadata": {
        "id": "4bvDR03xK96k"
      },
      "execution_count": null,
      "outputs": []
    },
    {
      "cell_type": "code",
      "source": [
        "class NN:\n",
        "  def __init__(self, iterations,learning_rate,layer_length):\n",
        "    self.accuracy = 0\n",
        "    self.iterations = iterations\n",
        "    self.learning_rate = learning_rate\n",
        "    self.input_length = 0\n",
        "    self.output_length = 0\n",
        "    self.layer_length = layer_length\n",
        "    self.w_1 = []\n",
        "    self.w_o = []\n",
        "\n",
        "  #Training\n",
        "  def fit(self, x_train, y_train):\n",
        "    self.input_length = len(x_train[0])\n",
        "    self.output_length = len(y_train[0])\n",
        "    self.w_1 = random_w(self.layer_length,self.input_length,42)\n",
        "    self.w_o = random_w(self.output_length,self.layer_length,41)\n",
        "    train_samples_number = len(x_train)\n",
        "    final = []\n",
        "    for o in range(self.iterations):\n",
        "      output_final_prediction = [None for _ in range(self.output_length)]\n",
        "      for b in range(train_samples_number):\n",
        "        input = x_train[b]\n",
        "        target = y_train[b]\n",
        "        #forward\n",
        "        #layer\n",
        "        net_1 = []\n",
        "        output_1 = []\n",
        "        for i in range(self.layer_length):\n",
        "          net_1_temp = np.dot(input,self.w_1[i])\n",
        "          net_1.append(net_1_temp)\n",
        "          output_1_temp = 1/(1+np.exp(-net_1_temp))\n",
        "          output_1.append(output_1_temp)\n",
        "        #output\n",
        "        net_final = []\n",
        "        output_final = []\n",
        "        for j in range(self.output_length):\n",
        "          net_final_temp = np.dot(output_1,self.w_o[j])\n",
        "          net_final.append(net_final_temp)\n",
        "          output_final_temp = 1/(1+np.exp(-net_final_temp)) \n",
        "          output_final.append(output_final_temp)\n",
        "        #Backward\n",
        "        #output\n",
        "        delta_final = []\n",
        "        delta_W_o = []\n",
        "        for k in range(self.output_length):\n",
        "          delta_final_temp = (target[k] - output_final[k]) * output_final[k] * (1 - output_final[k])\n",
        "          delta_final.append(delta_final_temp)\n",
        "          delta_W_o_temp = []\n",
        "          for m in range(self.layer_length):\n",
        "            delta_W_o_temp_temp = self.learning_rate * delta_final_temp * output_1[m]\n",
        "            delta_W_o_temp.append(delta_W_o_temp_temp)\n",
        "            self.w_o[k][m] = self.w_o[k][m] + delta_W_o_temp_temp\n",
        "          delta_W_o.append(delta_W_o_temp)\n",
        "        #layer\n",
        "        delta_1 = []\n",
        "        delta_w_1 = []\n",
        "        for l in range(self.layer_length):\n",
        "          w_o_prepare = []\n",
        "          for n in range(self.output_length):\n",
        "            w_o_prepare.append(self.w_o[n][l])\n",
        "          delta_1_temp = np.dot(delta_final,w_o_prepare)*output_1[l]*(1-output_1[l])\n",
        "          delta_1.append(delta_1_temp)\n",
        "          delta_w_1_temp = []\n",
        "          for f in range(self.input_length):\n",
        "            delta_w_1_temp_temp = delta_1_temp * input[f] * self.learning_rate\n",
        "            delta_w_1_temp.append(delta_w_1_temp_temp)\n",
        "            self.w_1[l][f] = self.w_1[l][f] + delta_w_1_temp_temp\n",
        "          delta_w_1.append(delta_w_1_temp)\n",
        "      for u in range(self.output_length):\n",
        "        output_final_prediction[u] = round(output_final[u])\n",
        "      final.append(output_final_prediction)\n",
        " #Testing\n",
        "  def predict(self,x_test, y_test):\n",
        "    test_samples_number = len(x_test)\n",
        "    self.output_length = len(y_test[0])\n",
        "    final_test = []\n",
        "    error = 0\n",
        "    for b in range(test_samples_number):\n",
        "      input = x_test[b]\n",
        "      target = y_test[b]\n",
        "      output_final_prediction = [None for _ in range(self.output_length)]\n",
        "      for o in range(1):\n",
        "        #forward\n",
        "        #layer\n",
        "        net_1 = []\n",
        "        output_1 = []\n",
        "        for i in range(self.layer_length):\n",
        "          net_1_temp = np.dot(input,self.w_1[i])\n",
        "          net_1.append(net_1_temp)\n",
        "          output_1_temp = 1/(1+np.exp(-net_1_temp))\n",
        "          output_1.append(output_1_temp)\n",
        "        #output\n",
        "        net_final = []\n",
        "        output_final = []\n",
        "        for j in range(self.output_length):\n",
        "          net_final_temp = np.dot(output_1,self.w_o[j])\n",
        "          net_final.append(net_final_temp)\n",
        "          output_final_temp = 1/(1+np.exp(-net_final_temp)) \n",
        "          output_final.append(round(output_final_temp))\n",
        "        if (output_final != target):\n",
        "          error+= 1  \n",
        "        final_test.append(output_final)\n",
        "    #getting accuracy\n",
        "    accuracy = (test_samples_number - error)/test_samples_number\n",
        "    self.accuracy = accuracy"
      ],
      "metadata": {
        "id": "1GSt6tu6ju-L"
      },
      "execution_count": null,
      "outputs": []
    },
    {
      "cell_type": "markdown",
      "source": [
        "**mnist data**"
      ],
      "metadata": {
        "id": "xSlDnxO4EEZF"
      }
    },
    {
      "cell_type": "markdown",
      "metadata": {
        "id": "fOkapIrpTSI8"
      },
      "source": [
        "Visualisation"
      ]
    },
    {
      "cell_type": "code",
      "source": [
        "digits = datasets.load_digits()"
      ],
      "metadata": {
        "id": "JIL4k3NuFOkv"
      },
      "execution_count": null,
      "outputs": []
    },
    {
      "cell_type": "code",
      "execution_count": null,
      "metadata": {
        "id": "6877ca8d",
        "colab": {
          "base_uri": "https://localhost:8080/",
          "height": 958
        },
        "outputId": "0d64f51a-ef33-4d61-e00d-584500860b08"
      },
      "outputs": [
        {
          "output_type": "display_data",
          "data": {
            "text/plain": [
              "<Figure size 1080x1080 with 100 Axes>"
            ],
            "image/png": "[encoded data removed]"
          },
          "metadata": {}
        }
      ],
      "source": [
        "# A helper display function\n",
        "\n",
        "# check the reshape line, adjust it if needed for your image size\n",
        "def displayData(X,Y):\n",
        "    # set up array\n",
        "    fig, ax = plt.subplots(nrows=10, ncols=10, figsize=(15,15))\n",
        "    fig.suptitle( \"Display randomly images of the training data set\")\n",
        "    # loop over randomly drawn numbers\n",
        "    for i in range(10):\n",
        "        for j in range(10):\n",
        "            ind = np.random.randint(X.shape[0])\n",
        "            tmp = X[ind,:].reshape(8,8)\n",
        "            ax[i,j].set_title(\"Label: {}\".format(Y[ind]))\n",
        "            ax[i,j].imshow(tmp, cmap='gray') # display it as gray colors.\n",
        "            plt.setp(ax[i,j].get_xticklabels(), visible=False)\n",
        "            plt.setp(ax[i,j].get_yticklabels(), visible=False)\n",
        "    \n",
        "    fig.subplots_adjust(hspace=0.5, wspace=0.5)\n",
        "    return tmp\n",
        "data = displayData(digits.images,digits.target) "
      ]
    },
    {
      "cell_type": "markdown",
      "source": [
        "Loading data"
      ],
      "metadata": {
        "id": "EeGXVxddFgxu"
      }
    },
    {
      "cell_type": "code",
      "source": [
        "mnistt = fetch_openml('mnist_784')"
      ],
      "metadata": {
        "id": "R1cRCQq5EEZF"
      },
      "execution_count": null,
      "outputs": []
    },
    {
      "cell_type": "code",
      "source": [
        "X, y = mnistt['data'], mnistt['target']"
      ],
      "metadata": {
        "id": "LP63m6n-EEZF"
      },
      "execution_count": null,
      "outputs": []
    },
    {
      "cell_type": "markdown",
      "source": [
        "pre-processing"
      ],
      "metadata": {
        "id": "ZDbDrX1p2lq4"
      }
    },
    {
      "cell_type": "code",
      "source": [
        "X = np.array(X)\n",
        "y = np.array(y)"
      ],
      "metadata": {
        "id": "KUCiYa_P32-z"
      },
      "execution_count": null,
      "outputs": []
    },
    {
      "cell_type": "code",
      "source": [
        "#train test splitting\n",
        "X_train, X_test, y_train, y_test = train_test_split(X, y, test_size=0.2, random_state=42)"
      ],
      "metadata": {
        "id": "Q6u2V3P09My9"
      },
      "execution_count": null,
      "outputs": []
    },
    {
      "cell_type": "code",
      "source": [
        "#shuffling\n",
        "X_train, y_train = shuffle_arrays_unison(arrays=[X_train, y_train], random_seed=42)\n",
        "X_test, y_test = shuffle_arrays_unison(arrays=[X_test, y_test], random_seed=42)\n",
        "#normalize the data attributes\n",
        "#getting some information about data\n",
        "print(\"x train:\", X_train.shape)\n",
        "print(\"y train:\", y_train.shape)\n",
        "print(\"x test:\", X_test.shape)\n",
        "print(\"x test:\", y_test.shape)\n",
        "print(\"x train max:\",X_train.max())\n",
        "print(\"x train min:\",X_train.min())\n",
        "print(\"y train max:\",y_train.max())\n",
        "print(\"y train min:\",y_train.min())\n",
        "#make each image in a row\n",
        "X_train = X_train.reshape(X_train.shape[0], 28*28)\n",
        "X_test = X_test.reshape(X_test.shape[0], 28*28)\n",
        "#scaling to have range of [0:1]\n",
        "X_train_scaled = X_train.astype('float32') / 255.0\n",
        "X_test_scaled = X_test.astype('float32') / 255.0\n",
        "#getting less data for time\n",
        "X_train_less = X_train_scaled[0:1000,:]\n",
        "X_test_less = X_test_scaled[0:200,:]\n",
        "y_train_less = y_train[0:1000]\n",
        "y_test_less = y_test[0:200]\n",
        "#normalization\n",
        "X_train_less = preprocessing.normalize(X_train_less).tolist()\n",
        "X_test_less = preprocessing.normalize(X_test_less).tolist()\n",
        "y_train_less = y_train[0:1000].tolist()\n",
        "y_test_less = y_test[0:200].tolist()\n",
        "#Hot coding the output\n",
        "y_train_less = pd.get_dummies(y_train_less).to_numpy().tolist()\n",
        "y_test_less = pd.get_dummies(y_test_less).to_numpy().tolist()"
      ],
      "metadata": {
        "colab": {
          "base_uri": "https://localhost:8080/"
        },
        "id": "gHx94ANF2nhD",
        "outputId": "f1510db3-8c67-4c75-ca83-79d533970834"
      },
      "execution_count": null,
      "outputs": [
        {
          "output_type": "stream",
          "name": "stdout",
          "text": [
            "x train: (56000, 784)\n",
            "y train: (56000,)\n",
            "x test: (14000, 784)\n",
            "x test: (14000,)\n",
            "x train max: 255.0\n",
            "x train min: 0.0\n",
            "y train max: 9\n",
            "y train min: 0\n"
          ]
        }
      ]
    },
    {
      "cell_type": "markdown",
      "source": [
        "**1. Neural network with one layer on mnist data**"
      ],
      "metadata": {
        "id": "skENz6yV_iJL"
      }
    },
    {
      "cell_type": "code",
      "source": [
        "nn = NN(100,0.2,10)\n",
        "nn.fit(X_train_less, y_train_less)\n",
        "nn.predict(X_test_less, y_test_less)\n",
        "print(\"Accuracy:\", str(nn.accuracy*100)+\"%\")"
      ],
      "metadata": {
        "colab": {
          "base_uri": "https://localhost:8080/"
        },
        "outputId": "f70c746e-6904-4e5f-be5e-651ed9193132",
        "id": "mnZPmAi04kyi"
      },
      "execution_count": null,
      "outputs": [
        {
          "output_type": "stream",
          "name": "stdout",
          "text": [
            "Accuracy: 10.5%\n"
          ]
        }
      ]
    },
    {
      "cell_type": "markdown",
      "source": [
        "**My K-means**"
      ],
      "metadata": {
        "id": "9BTb3bOu1qUI"
      }
    },
    {
      "cell_type": "markdown",
      "source": [
        "Implementation"
      ],
      "metadata": {
        "id": "i_CbQynlWzdZ"
      }
    },
    {
      "cell_type": "code",
      "execution_count": null,
      "metadata": {
        "id": "sfWHLpync61L"
      },
      "outputs": [],
      "source": [
        "def k_mean_clustering(X,k):\n",
        "  '''\n",
        "  Input: X data\n",
        "  Output: y data clustered (pretected labels)\n",
        "  '''\n",
        "  #pre-processing\n",
        "  X = np.asarray(X)\n",
        "\n",
        "  #number of training data\n",
        "  n = X.shape[0]\n",
        "\n",
        "  #number of features in the data\n",
        "  c = X.shape[1]\n",
        "\n",
        "  # Generate random centers by randomly selecting k data points from the dataset\n",
        "  random_i = np.random.choice(np.arange(n), size=k, replace=False)\n",
        "  centers = X[random_i]\n",
        "\n",
        "  centers_old = np.zeros(centers.shape) # to store old centers\n",
        "  centers_new = deepcopy(centers) # Store new centers\n",
        "\n",
        "  clusters = np.zeros(n)\n",
        "  distances = np.zeros((n, k))\n",
        "\n",
        "  #flag for stop \n",
        "  flag = np.linalg.norm(centers_new - centers_old)\n",
        "\n",
        "  while flag != 0:\n",
        "      # Measure the distance to every center\n",
        "      for i in range(k):\n",
        "          distances[:,i] = np.linalg.norm(X - centers[i], axis=1)\n",
        "      # Assign all training data to closest center\n",
        "      clusters = np.argmin(distances, axis = 1)\n",
        "    \n",
        "      centers_old = deepcopy(centers_new)\n",
        "      # Calculate mean for every cluster and update the center\n",
        "      for i in range(k):\n",
        "          centers_new[i] = np.mean(X[clusters == i], axis=0)\n",
        "      flag = np.linalg.norm(centers_new - centers_old)\n",
        "      return clusters"
      ]
    },
    {
      "cell_type": "markdown",
      "source": [
        "Applying"
      ],
      "metadata": {
        "id": "XumyXL2vW2UZ"
      }
    },
    {
      "cell_type": "code",
      "source": [
        "# Number of clusters\n",
        "k = 10\n",
        "\n",
        "#Applying k-mean clustering\n",
        "clusters = k_mean_clustering(X,k)"
      ],
      "metadata": {
        "id": "bwF7kn3SJgj4"
      },
      "execution_count": null,
      "outputs": []
    },
    {
      "cell_type": "markdown",
      "source": [
        "Score"
      ],
      "metadata": {
        "id": "kFwb04_c181d"
      }
    },
    {
      "cell_type": "code",
      "source": [
        "# Print the percentage of points in each cluster\n",
        "print(np.bincount(clusters) / len(X))"
      ],
      "metadata": {
        "colab": {
          "base_uri": "https://localhost:8080/"
        },
        "id": "rVST9KflF_11",
        "outputId": "51873d2a-5b77-48ee-e179-312b618d13b3"
      },
      "execution_count": null,
      "outputs": [
        {
          "output_type": "stream",
          "name": "stdout",
          "text": [
            "[0.17138571 0.09215714 0.04737143 0.03708571 0.0768     0.05298571\n",
            " 0.34298571 0.11732857 0.03468571 0.02721429]\n"
          ]
        }
      ]
    },
    {
      "cell_type": "code",
      "source": [
        "# calculate silhouette score\n",
        "silhouette_score = silhouette_score(X, clusters)\n",
        "\n",
        "print(silhouette_score)"
      ],
      "metadata": {
        "colab": {
          "base_uri": "https://localhost:8080/"
        },
        "id": "ENnsfDDxntxj",
        "outputId": "1b536dd8-fc59-47ee-a5be-1192dd96262a"
      },
      "execution_count": null,
      "outputs": [
        {
          "output_type": "stream",
          "name": "stdout",
          "text": [
            "0.03364887888068761\n"
          ]
        }
      ]
    },
    {
      "cell_type": "markdown",
      "source": [
        "**Built in K-means**"
      ],
      "metadata": {
        "id": "X1L8dquu2Ah-"
      }
    },
    {
      "cell_type": "markdown",
      "source": [
        "Applying"
      ],
      "metadata": {
        "id": "gwjmr6djW6qV"
      }
    },
    {
      "cell_type": "code",
      "source": [
        "from sklearn.cluster import KMeans\n",
        "from sklearn.datasets import fetch_openml\n",
        "import numpy as np\n",
        "\n",
        "# Perform k-means clustering with 10 clusters\n",
        "kmeans = KMeans(n_clusters=10, random_state=0).fit(X)\n",
        "\n",
        "# Obtain cluster labels for each data point\n",
        "labels = kmeans.labels_"
      ],
      "metadata": {
        "id": "XOYbS90Gupld"
      },
      "execution_count": null,
      "outputs": []
    },
    {
      "cell_type": "markdown",
      "source": [
        "Score"
      ],
      "metadata": {
        "id": "zyvW1ren2GGg"
      }
    },
    {
      "cell_type": "code",
      "source": [
        "# Print the percentage of points in each cluster\n",
        "print(np.bincount(labels) / len(X))"
      ],
      "metadata": {
        "colab": {
          "base_uri": "https://localhost:8080/"
        },
        "id": "VtkucJbdJ6u0",
        "outputId": "a88a3814-6b54-4c3e-8a18-3edb31ff26a4"
      },
      "execution_count": null,
      "outputs": [
        {
          "output_type": "stream",
          "name": "stdout",
          "text": [
            "[0.07587143 0.1425     0.09261429 0.09674286 0.09511429 0.12391429\n",
            " 0.0711     0.14922857 0.07602857 0.07688571]\n"
          ]
        }
      ]
    },
    {
      "cell_type": "code",
      "source": [
        "# calculate silhouette score\n",
        "silhouette_score = silhouette_score(X, labels)\n",
        "\n",
        "print(silhouette_score)\n"
      ],
      "metadata": {
        "colab": {
          "base_uri": "https://localhost:8080/"
        },
        "id": "fKuSR10_rm9S",
        "outputId": "bafac8b1-a005-4591-a1c2-d282165ff080"
      },
      "execution_count": null,
      "outputs": [
        {
          "output_type": "stream",
          "name": "stdout",
          "text": [
            "0.05869272931860969\n"
          ]
        }
      ]
    },
    {
      "cell_type": "markdown",
      "source": [
        "**2. Neural network with one layer on mnist data with clustering**"
      ],
      "metadata": {
        "id": "JMVG9lDo4kyi"
      }
    },
    {
      "cell_type": "markdown",
      "source": [
        "pre-processing"
      ],
      "metadata": {
        "id": "8LczsDsq4n7-"
      }
    },
    {
      "cell_type": "code",
      "source": [
        "y = clusters"
      ],
      "metadata": {
        "id": "fS94ZH_U61ZZ"
      },
      "execution_count": null,
      "outputs": []
    },
    {
      "cell_type": "code",
      "source": [
        "#train test splitting\n",
        "X_train, X_test, y_train, y_test = train_test_split(X, y, test_size=0.2, random_state=42)"
      ],
      "metadata": {
        "id": "9u3c3jDxGbAZ"
      },
      "execution_count": null,
      "outputs": []
    },
    {
      "cell_type": "markdown",
      "source": [
        "Applying"
      ],
      "metadata": {
        "id": "XPFFQbI_Gbh5"
      }
    },
    {
      "cell_type": "code",
      "source": [
        "nn = NN(100,0.2,10)\n",
        "nn.fit(X_train_less, y_train_less)\n",
        "nn.predict(X_test_less, y_test_less)\n",
        "print(\"Accuracy:\", str(nn.accuracy*100)+\"%\")"
      ],
      "metadata": {
        "colab": {
          "base_uri": "https://localhost:8080/"
        },
        "id": "4BMTcn664ptf",
        "outputId": "9c317364-1b7e-4763-bfa3-b9f513fa0ab2"
      },
      "execution_count": null,
      "outputs": [
        {
          "output_type": "stream",
          "name": "stdout",
          "text": [
            "Accuracy: 35.0%\n"
          ]
        }
      ]
    },
    {
      "cell_type": "markdown",
      "source": [
        "**Comments**"
      ],
      "metadata": {
        "id": "d9NepIe1Kc4D"
      }
    },
    {
      "cell_type": "markdown",
      "source": [
        "\n",
        "\n",
        "```\n",
        "1. I used silhouette score which has [-1,1] range to judge the clustring.\n",
        "2. my clustering score (0.03364887888068761) is near to sklearn score (0.05869272931860969) which mean that my clustring is good.\n",
        "\n",
        "```\n",
        "\n"
      ],
      "metadata": {
        "id": "tCv-O-kLKj62"
      }
    },
    {
      "cell_type": "markdown",
      "source": [
        "\n",
        "\n",
        "```\n",
        "3. I used the percentage of points in each cluster, too.\n",
        "4. I found that my percentages are near to sklearn percentages.\n",
        "```\n",
        "\n"
      ],
      "metadata": {
        "id": "Hp8ISaaIQFfv"
      }
    },
    {
      "cell_type": "markdown",
      "source": [
        "\n",
        "\n",
        "```\n",
        "5. I used my NN with one layer, 100 iterations, 0.2 learning rate, and 10 layer length for both mnist with and without clustering.\n",
        "6. Unexpectedly, I found that accuracy of NN with data clustered (35%) is higher than the accuracy of NN with data not clustered (10.5%).\n",
        "```\n",
        "\n"
      ],
      "metadata": {
        "id": "EXjJn48-NGOH"
      }
    },
    {
      "cell_type": "markdown",
      "source": [
        "\n",
        "\n",
        "```\n",
        "7. I searched for the reasons of this and found that:\n",
        "\n",
        "*   Clustering the data can help to identify patterns or groupings within the data that may not be immediately apparent. By training a model on the cluster data, you can build a more specialized model that is better able to make accurate predictions within those clusters.\n",
        "*   Clustering the data can help to reduce the dimensionality of the data, which can make it easier for the model to learn from the data and make accurate predictions.\n",
        "*   Clustering the data can help to balance the classes of the data. In case if you have imbalanced data, clustering can help in balancing the class of the data which will help the model to perform better.\n",
        "*   Clustering can also help to identify and remove any outliers in the data, which can improve the model's accuracy by reducing the amount of noise in the data.\n",
        "*   The clustering algorithm used also matters, while some are just to group similar data points together, some like Kmeans, helps in reducing the dimension of the data as well, which could be contributing to the improvement in accuracy.\n",
        "*   It's also worth noting that the performance of a model can vary depending on many factors, including the size and quality of the data, the architecture of the model, and the tuning of the model's parameters. So clustering the data is just one of many possible techniques to improve accuracy, and the improvement in accuracy may depend on the specific use case.\n",
        "```\n",
        "\n"
      ],
      "metadata": {
        "id": "5hG7nSloNKxw"
      }
    }
  ]
}