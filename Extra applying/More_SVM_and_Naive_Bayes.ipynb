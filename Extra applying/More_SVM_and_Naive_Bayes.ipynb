{
  "cells": [
    {
      "cell_type": "markdown",
      "metadata": {
        "id": "87432683"
      },
      "source": [
        "# Tasks"
      ],
      "id": "87432683"
    },
    {
      "cell_type": "markdown",
      "metadata": {
        "id": "ea58bc9a"
      },
      "source": [
        "- Task 1  [10 Points]: Work with Mnist dataset\n",
        "    - Perform proper preprocessing and visualization\n",
        "    - Perform proper hyperparameter tuning **-SVM-**. JUSTIFY ALL THE HYPERPARAMETER VALUES\n"
      ],
      "id": "ea58bc9a"
    },
    {
      "cell_type": "markdown",
      "metadata": {
        "id": "985616c6"
      },
      "source": [
        "* Task 2 (Bouns) [3 Points] : Follow [this tutorial](https://www.datacamp.com/community/tutorials/naive-bayes-scikit-learn) on **Naive Bayes** and apply what you learnt on the [Spam Classification dataset](https://www.kaggle.com/uciml/sms-spam-collection-dataset)\n",
        "\n"
      ],
      "id": "985616c6"
    },
    {
      "cell_type": "markdown",
      "source": [
        "**Task 1**"
      ],
      "metadata": {
        "id": "POyveclw6FIy"
      },
      "id": "POyveclw6FIy"
    },
    {
      "cell_type": "markdown",
      "metadata": {
        "id": "EfAxkHorbOv6"
      },
      "source": [
        "Importing"
      ],
      "id": "EfAxkHorbOv6"
    },
    {
      "cell_type": "code",
      "execution_count": null,
      "metadata": {
        "id": "aeced5d4"
      },
      "outputs": [],
      "source": [
        "import numpy as np\n",
        "from matplotlib import pyplot as plt\n",
        "from sklearn import datasets\n",
        "from keras.datasets import mnist"
      ],
      "id": "aeced5d4"
    },
    {
      "cell_type": "code",
      "execution_count": null,
      "metadata": {
        "id": "o6lBTPALWSGJ"
      },
      "outputs": [],
      "source": [
        "import pandas as pd\n",
        "\n",
        "import itertools\n",
        "\n",
        "from sklearn.preprocessing import LabelEncoder\n",
        "from sklearn.preprocessing import StandardScaler\n",
        "from sklearn.model_selection import cross_val_score\n",
        "from sklearn.model_selection import train_test_split\n",
        "from sklearn import metrics\n",
        "from sklearn.model_selection import GridSearchCV\n",
        "from sklearn.preprocessing import StandardScaler\n",
        "from sklearn.svm import SVC\n",
        "\n",
        "import matplotlib.gridspec as gridspec\n",
        "\n",
        "from mlxtend.plotting import plot_decision_regions\n",
        "from mlxtend.preprocessing import shuffle_arrays_unison\n",
        "\n",
        "import seaborn as sns\n",
        "\n",
        "from tqdm.notebook import tqdm_notebook as tqdm"
      ],
      "id": "o6lBTPALWSGJ"
    },
    {
      "cell_type": "markdown",
      "metadata": {
        "id": "8MDNmjlYbRQ4"
      },
      "source": [
        "Intro"
      ],
      "id": "8MDNmjlYbRQ4"
    },
    {
      "cell_type": "code",
      "execution_count": null,
      "metadata": {
        "id": "847f5445"
      },
      "outputs": [],
      "source": [
        "#the dataset exists in many places; sklearn, keras, and online with different qualities,\n",
        "#so make sure to check the size first\n",
        "digits = datasets.load_digits()\n",
        "#or uncomment the following to use keras data\n",
        "#(X_train, y_train), (X_test, y_test) = mnist.load_data()\n"
      ],
      "id": "847f5445"
    },
    {
      "cell_type": "markdown",
      "metadata": {
        "id": "_tXDV4bVTWLJ"
      },
      "source": [
        "Preprocessing"
      ],
      "id": "_tXDV4bVTWLJ"
    },
    {
      "cell_type": "code",
      "execution_count": null,
      "metadata": {
        "id": "cq5MVqnTRhtK",
        "colab": {
          "base_uri": "https://localhost:8080/"
        },
        "outputId": "893c5dd2-5343-4946-ad05-fd93c770c068"
      },
      "outputs": [
        {
          "output_type": "stream",
          "name": "stdout",
          "text": [
            "Downloading data from https://storage.googleapis.com/tensorflow/tf-keras-datasets/mnist.npz\n",
            "11490434/11490434 [==============================] - 1s 0us/step\n",
            "x train: (60000, 28, 28)\n",
            "y train: (60000,)\n",
            "x test: (10000, 28, 28)\n",
            "x test: (10000,)\n",
            "x train max 255\n",
            "x train min 0\n",
            "y train max 9\n",
            "y train min 0\n"
          ]
        }
      ],
      "source": [
        "#Getting data\n",
        "(X_train, y_train), (X_test, y_test) = mnist.load_data()\n",
        "#getting some information about data\n",
        "print(\"x train:\", X_train.shape)\n",
        "print(\"y train:\", y_train.shape)\n",
        "print(\"x test:\", X_test.shape)\n",
        "print(\"x test:\", y_test.shape)\n",
        "print(\"x train max\",X_train.max())\n",
        "print(\"x train min\",X_train.min())\n",
        "print(\"y train max\",y_train.max())\n",
        "print(\"y train min\",y_train.min())\n",
        "#make each image in a row\n",
        "X_train = X_train.reshape(X_train.shape[0], 28*28)\n",
        "X_test = X_test.reshape(X_test.shape[0], 28*28)\n",
        "#scaling to have range of [0:1]\n",
        "X_train_scaled = X_train.astype('float32') / 255.0\n",
        "X_test_scaled = X_test.astype('float32') / 255.0\n",
        "#getting less data for time\n",
        "X_train_less = X_train_scaled[0:1000,:]\n",
        "X_test_less = X_test_scaled[0:200,:]\n",
        "y_train_less = y_train[0:1000]\n",
        "y_test_less = y_test[0:200]"
      ],
      "id": "cq5MVqnTRhtK"
    },
    {
      "cell_type": "markdown",
      "metadata": {
        "id": "fOkapIrpTSI8"
      },
      "source": [
        "Visualisation"
      ],
      "id": "fOkapIrpTSI8"
    },
    {
      "cell_type": "code",
      "execution_count": null,
      "metadata": {
        "id": "6877ca8d",
        "colab": {
          "base_uri": "https://localhost:8080/",
          "height": 958
        },
        "outputId": "9c36340a-76fd-4f93-a07c-5be64a086687"
      },
      "outputs": [
        {
          "output_type": "display_data",
          "data": {
            "text/plain": [
              "<Figure size 1080x1080 with 100 Axes>"
            ],
            "image/png": "[encoded data removed]"
          },
          "metadata": {}
        }
      ],
      "source": [
        "# A helper display function\n",
        "\n",
        "# check the reshape line, adjust it if needed for your image size\n",
        "def displayData(X,Y):\n",
        "    # set up array\n",
        "    fig, ax = plt.subplots(nrows=10, ncols=10, figsize=(15,15))\n",
        "    fig.suptitle( \"Display randomly images of the training data set\")\n",
        "    # loop over randomly drawn numbers\n",
        "    for i in range(10):\n",
        "        for j in range(10):\n",
        "            ind = np.random.randint(X.shape[0])\n",
        "            tmp = X[ind,:].reshape(8,8)\n",
        "            ax[i,j].set_title(\"Label: {}\".format(Y[ind]))\n",
        "            ax[i,j].imshow(tmp, cmap='gray') # display it as gray colors.\n",
        "            plt.setp(ax[i,j].get_xticklabels(), visible=False)\n",
        "            plt.setp(ax[i,j].get_yticklabels(), visible=False)\n",
        "    \n",
        "    fig.subplots_adjust(hspace=0.5, wspace=0.5)\n",
        "    return tmp\n",
        "data = displayData(digits.images,digits.target) "
      ],
      "id": "6877ca8d"
    },
    {
      "cell_type": "markdown",
      "metadata": {
        "id": "gnxc-gXuZhVB"
      },
      "source": [
        "Types of kernals (gamma = 0.01 % c = [0.1:0.2:20]"
      ],
      "id": "gnxc-gXuZhVB"
    },
    {
      "cell_type": "markdown",
      "source": [
        "Linear"
      ],
      "metadata": {
        "id": "di5Wgq7si5Bo"
      },
      "id": "di5Wgq7si5Bo"
    },
    {
      "cell_type": "code",
      "execution_count": null,
      "metadata": {
        "id": "cX5cWh1mZmra",
        "colab": {
          "base_uri": "https://localhost:8080/"
        },
        "outputId": "a735c739-facb-4265-fe90-5755c4b5e135"
      },
      "outputs": [
        {
          "output_type": "stream",
          "name": "stdout",
          "text": [
            "Accuracy Score Linear: 92.5%\n"
          ]
        }
      ],
      "source": [
        "svc=SVC(kernel='linear')\n",
        "svc.fit(X_train_less,y_train_less)\n",
        "y_pred=svc.predict(X_test_less)\n",
        "print('Accuracy Score Linear:', str(metrics.accuracy_score(y_test_less,y_pred)*100) + '%')"
      ],
      "id": "cX5cWh1mZmra"
    },
    {
      "cell_type": "code",
      "execution_count": null,
      "metadata": {
        "id": "0U7jBH8HhxjQ",
        "colab": {
          "base_uri": "https://localhost:8080/",
          "height": 316
        },
        "outputId": "98db9042-6652-4248-bc1f-8903f92a03bb"
      },
      "outputs": [
        {
          "output_type": "stream",
          "name": "stdout",
          "text": [
            "Accuracy: [0.883, 0.8780000000000001, 0.8780000000000001, 0.8780000000000001, 0.8780000000000001, 0.8780000000000001, 0.8780000000000001, 0.8780000000000001, 0.8780000000000001, 0.8780000000000001, 0.8780000000000001, 0.8780000000000001, 0.8780000000000001, 0.8780000000000001, 0.8780000000000001, 0.8780000000000001, 0.8780000000000001, 0.8780000000000001, 0.8780000000000001, 0.8780000000000001, 0.8780000000000001, 0.8780000000000001, 0.8780000000000001, 0.8780000000000001, 0.8780000000000001, 0.8780000000000001, 0.8780000000000001, 0.8780000000000001, 0.8780000000000001, 0.8780000000000001, 0.8780000000000001, 0.8780000000000001, 0.8780000000000001, 0.8780000000000001, 0.8780000000000001, 0.8780000000000001, 0.8780000000000001, 0.8780000000000001, 0.8780000000000001, 0.8780000000000001, 0.8780000000000001, 0.8780000000000001, 0.8780000000000001, 0.8780000000000001, 0.8780000000000001, 0.8780000000000001, 0.8780000000000001, 0.8780000000000001, 0.8780000000000001, 0.8780000000000001, 0.8780000000000001, 0.8780000000000001, 0.8780000000000001, 0.8780000000000001, 0.8780000000000001, 0.8780000000000001, 0.8780000000000001, 0.8780000000000001, 0.8780000000000001, 0.8780000000000001, 0.8780000000000001, 0.8780000000000001, 0.8780000000000001, 0.8780000000000001, 0.8780000000000001, 0.8780000000000001, 0.8780000000000001, 0.8780000000000001, 0.8780000000000001, 0.8780000000000001, 0.8780000000000001, 0.8780000000000001, 0.8780000000000001, 0.8780000000000001, 0.8780000000000001, 0.8780000000000001, 0.8780000000000001, 0.8780000000000001, 0.8780000000000001, 0.8780000000000001, 0.8780000000000001, 0.8780000000000001, 0.8780000000000001, 0.8780000000000001, 0.8780000000000001, 0.8780000000000001, 0.8780000000000001, 0.8780000000000001, 0.8780000000000001, 0.8780000000000001, 0.8780000000000001, 0.8780000000000001, 0.8780000000000001, 0.8780000000000001, 0.8780000000000001, 0.8780000000000001, 0.8780000000000001, 0.8780000000000001, 0.8780000000000001, 0.8780000000000001]\n"
          ]
        },
        {
          "output_type": "display_data",
          "data": {
            "text/plain": [
              "<Figure size 432x288 with 1 Axes>"
            ],
            "image/png": "[encoded data removed]"
          },
          "metadata": {
            "needs_background": "light"
          }
        }
      ],
      "source": [
        "g = 0.01\n",
        "c_range = list(np.arange(0.1,20,0.2))\n",
        "accuracy = []\n",
        "for c in c_range:\n",
        "  svc = SVC(kernel='linear', C=c, gamma = g)\n",
        "  score = cross_val_score(svc, X_train_less, y_train_less, cv=10, scoring='accuracy')\n",
        "  score_mean = score.mean()\n",
        "  accuracy.append(score_mean)\n",
        "print(\"Accuracy:\",accuracy)\n",
        "plt.plot(c_range, accuracy)\n",
        "plt.xlabel('Value of C for SVC with gamma = 0.01')\n",
        "plt.ylabel('Accuracy');"
      ],
      "id": "0U7jBH8HhxjQ"
    },
    {
      "cell_type": "markdown",
      "source": [
        "Polynomial"
      ],
      "metadata": {
        "id": "YE8dS8v4i8Eb"
      },
      "id": "YE8dS8v4i8Eb"
    },
    {
      "cell_type": "code",
      "execution_count": null,
      "metadata": {
        "colab": {
          "base_uri": "https://localhost:8080/"
        },
        "id": "001fXZrcaFmV",
        "outputId": "e499ab5f-065b-44d5-fee3-dea867e07b9b"
      },
      "outputs": [
        {
          "output_type": "stream",
          "name": "stdout",
          "text": [
            "Accuracy Score Polynomial: 88.0%\n"
          ]
        }
      ],
      "source": [
        "svc=SVC(kernel='poly')\n",
        "svc.fit(X_train_less,y_train_less)\n",
        "y_pred=svc.predict(X_test_less)\n",
        "print('Accuracy Score Polynomial:', str(metrics.accuracy_score(y_test_less,y_pred)*100) + '%') "
      ],
      "id": "001fXZrcaFmV"
    },
    {
      "cell_type": "code",
      "execution_count": null,
      "metadata": {
        "id": "IE9e-vPGh53z",
        "colab": {
          "base_uri": "https://localhost:8080/",
          "height": 316
        },
        "outputId": "b4099db4-d615-4916-f8b8-00f3c2d24dd2"
      },
      "outputs": [
        {
          "output_type": "stream",
          "name": "stdout",
          "text": [
            "Accuracy: [0.525, 0.726, 0.7729999999999999, 0.7999999999999999, 0.806, 0.8220000000000001, 0.8390000000000001, 0.8480000000000001, 0.851, 0.8540000000000001, 0.853, 0.8560000000000001, 0.8629999999999999, 0.8659999999999999, 0.8709999999999999, 0.873, 0.873, 0.873, 0.874, 0.875, 0.8790000000000001, 0.8780000000000001, 0.8780000000000001, 0.8790000000000001, 0.8800000000000001, 0.881, 0.881, 0.882, 0.883, 0.882, 0.883, 0.8870000000000001, 0.8880000000000001, 0.889, 0.8869999999999999, 0.8869999999999999, 0.8879999999999999, 0.8879999999999999, 0.889, 0.889, 0.889, 0.889, 0.889, 0.889, 0.89, 0.89, 0.89, 0.89, 0.891, 0.891, 0.891, 0.89, 0.89, 0.89, 0.89, 0.89, 0.891, 0.891, 0.891, 0.891, 0.891, 0.891, 0.891, 0.891, 0.891, 0.89, 0.89, 0.89, 0.89, 0.89, 0.8870000000000001, 0.8870000000000001, 0.8870000000000001, 0.8860000000000001, 0.8860000000000001, 0.8860000000000001, 0.885, 0.885, 0.885, 0.885, 0.885, 0.884, 0.884, 0.883, 0.883, 0.882, 0.882, 0.882, 0.882, 0.882, 0.882, 0.883, 0.883, 0.883, 0.883, 0.883, 0.883, 0.883, 0.883, 0.883]\n"
          ]
        },
        {
          "output_type": "display_data",
          "data": {
            "text/plain": [
              "<Figure size 432x288 with 1 Axes>"
            ],
            "image/png": "[encoded data removed]"
          },
          "metadata": {
            "needs_background": "light"
          }
        }
      ],
      "source": [
        "g = 0.01\n",
        "c_range = list(np.arange(0.1,20,0.2))\n",
        "accuracy = []\n",
        "for c in c_range:\n",
        "  svc = SVC(kernel='poly', C=c, gamma = g)\n",
        "  score = cross_val_score(svc, X_train_less, y_train_less, cv=10, scoring='accuracy')\n",
        "  score_mean = score.mean()\n",
        "  accuracy.append(score_mean)\n",
        "print(\"Accuracy:\",accuracy)\n",
        "plt.plot(c_range, accuracy)\n",
        "plt.xlabel('Value of C for SVC with gamma = 0.01')\n",
        "plt.ylabel('Accuracy');"
      ],
      "id": "IE9e-vPGh53z"
    },
    {
      "cell_type": "markdown",
      "source": [
        "RBF"
      ],
      "metadata": {
        "id": "Uib6syvgi-8i"
      },
      "id": "Uib6syvgi-8i"
    },
    {
      "cell_type": "code",
      "execution_count": null,
      "metadata": {
        "id": "H-ZN-PpXbHud",
        "colab": {
          "base_uri": "https://localhost:8080/"
        },
        "outputId": "f213e551-678d-4252-872c-4c7cf47a6c29"
      },
      "outputs": [
        {
          "output_type": "stream",
          "name": "stdout",
          "text": [
            "Accuracy Score RBF: 0.93%\n"
          ]
        }
      ],
      "source": [
        "svc=SVC(kernel='rbf')\n",
        "svc.fit(X_train_less,y_train_less)\n",
        "y_pred=svc.predict(X_test_less)\n",
        "print('Accuracy Score RBF:', str(metrics.accuracy_score(y_test_less,y_pred)) + '%')"
      ],
      "id": "H-ZN-PpXbHud"
    },
    {
      "cell_type": "code",
      "execution_count": null,
      "metadata": {
        "id": "-taqb_gpiD8U",
        "colab": {
          "base_uri": "https://localhost:8080/",
          "height": 318
        },
        "outputId": "6b7fc6d7-b2fb-482a-c37a-cb862b6078d7"
      },
      "outputs": [
        {
          "output_type": "stream",
          "name": "stdout",
          "text": [
            "Accuracy: [0.7839999999999999, 0.869, 0.8799999999999999, 0.89, 0.9, 0.9049999999999999, 0.909, 0.9109999999999999, 0.9119999999999999, 0.9139999999999999, 0.9139999999999999, 0.9149999999999998, 0.9129999999999999, 0.913, 0.913, 0.913, 0.914, 0.914, 0.914, 0.914, 0.913, 0.913, 0.913, 0.913, 0.913, 0.913, 0.913, 0.913, 0.913, 0.913, 0.913, 0.913, 0.914, 0.914, 0.914, 0.914, 0.914, 0.914, 0.914, 0.914, 0.914, 0.914, 0.914, 0.914, 0.914, 0.914, 0.914, 0.914, 0.914, 0.914, 0.914, 0.914, 0.914, 0.914, 0.914, 0.914, 0.914, 0.914, 0.914, 0.914, 0.914, 0.914, 0.914, 0.914, 0.914, 0.914, 0.914, 0.914, 0.914, 0.914, 0.914, 0.914, 0.914, 0.914, 0.914, 0.914, 0.914, 0.914, 0.914, 0.914, 0.914, 0.914, 0.914, 0.914, 0.914, 0.914, 0.914, 0.914, 0.914, 0.914, 0.914, 0.914, 0.914, 0.914, 0.914, 0.914, 0.914, 0.914, 0.914, 0.914]\n"
          ]
        },
        {
          "output_type": "display_data",
          "data": {
            "text/plain": [
              "<Figure size 432x288 with 1 Axes>"
            ],
            "image/png": "[encoded data removed]"
          },
          "metadata": {
            "needs_background": "light"
          }
        }
      ],
      "source": [
        "g = 0.01\n",
        "c_range = list(np.arange(0.1,20,0.2))\n",
        "accuracy = []\n",
        "for c in c_range:\n",
        "  svc = SVC(kernel='rbf', C=c, gamma = g)\n",
        "  score = cross_val_score(svc, X_train_less, y_train_less, cv=10, scoring='accuracy')\n",
        "  score_mean = score.mean()\n",
        "  accuracy.append(score_mean)\n",
        "print(\"Accuracy:\",accuracy)\n",
        "plt.plot(c_range, accuracy)\n",
        "plt.xlabel('Value of C for SVC with gamma = 0.01')\n",
        "plt.ylabel('Accuracy');"
      ],
      "id": "-taqb_gpiD8U"
    },
    {
      "cell_type": "markdown",
      "metadata": {
        "id": "Kjx93H0ubkyv"
      },
      "source": [
        "->According to the accuracies, RBF is the best kernal, so I will use it."
      ],
      "id": "Kjx93H0ubkyv"
    },
    {
      "cell_type": "markdown",
      "metadata": {
        "id": "NiqWwB6Rb0ZZ"
      },
      "source": [
        "RBF:"
      ],
      "id": "NiqWwB6Rb0ZZ"
    },
    {
      "cell_type": "markdown",
      "metadata": {
        "id": "tuIO6oDpV3GC"
      },
      "source": [
        "Sweeping on c and zooming (gamma = 0.1)"
      ],
      "id": "tuIO6oDpV3GC"
    },
    {
      "cell_type": "markdown",
      "metadata": {
        "id": "P2S4S-TRhfJ6"
      },
      "source": [
        "Let's zoom at c = [0.1:0.1:5.0] area"
      ],
      "id": "P2S4S-TRhfJ6"
    },
    {
      "cell_type": "code",
      "execution_count": null,
      "metadata": {
        "colab": {
          "base_uri": "https://localhost:8080/",
          "height": 318
        },
        "id": "Pwtss48bXGXu",
        "outputId": "69506efd-bbef-49e6-97f4-61f6d665846c"
      },
      "outputs": [
        {
          "output_type": "stream",
          "name": "stdout",
          "text": [
            "Accuracy: [0.7839999999999999, 0.8549999999999999, 0.869, 0.876, 0.8799999999999999, 0.8870000000000001, 0.89, 0.8969999999999999, 0.9, 0.9029999999999999, 0.9049999999999999, 0.907, 0.909, 0.909, 0.9109999999999999, 0.9129999999999999, 0.9119999999999999, 0.9129999999999999, 0.9139999999999999, 0.9139999999999999, 0.9139999999999999, 0.9149999999999998, 0.9149999999999998, 0.9139999999999999, 0.9129999999999999, 0.915, 0.913, 0.913, 0.913, 0.913, 0.913, 0.913, 0.914, 0.914, 0.914, 0.914, 0.914, 0.914, 0.914, 0.914, 0.913, 0.913, 0.913, 0.913, 0.913, 0.913, 0.913, 0.913, 0.913]\n"
          ]
        },
        {
          "output_type": "display_data",
          "data": {
            "text/plain": [
              "<Figure size 432x288 with 1 Axes>"
            ],
            "image/png": "[encoded data removed]"
          },
          "metadata": {
            "needs_background": "light"
          }
        }
      ],
      "source": [
        "g = 0.01\n",
        "c_range = list(np.arange(0.1,5,0.1))\n",
        "accuracy = []\n",
        "for c in c_range:\n",
        "  svc = SVC(kernel='rbf', C=c, gamma = g)\n",
        "  score = cross_val_score(svc, X_train_less, y_train_less, cv=10, scoring='accuracy')\n",
        "  score_mean = score.mean()\n",
        "  accuracy.append(score_mean)\n",
        "print(\"Accuracy:\",accuracy)\n",
        "plt.plot(c_range, accuracy)\n",
        "plt.xlabel('Value of C for SVC with gamma = 0.01')\n",
        "plt.ylabel('Accuracy');"
      ],
      "id": "Pwtss48bXGXu"
    },
    {
      "cell_type": "markdown",
      "source": [
        "Let's zoom at c = [2:0.1:5] area"
      ],
      "metadata": {
        "id": "ssNrtKUvkwB8"
      },
      "id": "ssNrtKUvkwB8"
    },
    {
      "cell_type": "code",
      "execution_count": null,
      "metadata": {
        "id": "1TcYTOxZhGfI",
        "colab": {
          "base_uri": "https://localhost:8080/",
          "height": 279
        },
        "outputId": "b1802979-f253-4b25-b536-45e5dda072b3"
      },
      "outputs": [
        {
          "output_type": "display_data",
          "data": {
            "text/plain": [
              "<Figure size 432x288 with 1 Axes>"
            ],
            "image/png": "[encoded data removed]"
          },
          "metadata": {
            "needs_background": "light"
          }
        }
      ],
      "source": [
        "g = 0.01\n",
        "c_range = list(np.arange(2,5,0.1))\n",
        "accuracy = []\n",
        "for c in c_range:\n",
        "  svc = SVC(kernel='rbf', C=c, gamma = g)\n",
        "  score = cross_val_score(svc, X_train_less, y_train_less, cv=10, scoring='accuracy')\n",
        "  score_mean = score.mean()\n",
        "  accuracy.append(score_mean)\n",
        "plt.plot(c_range, accuracy)\n",
        "plt.xlabel('Value of C for SVC with gamma = 0.01')\n",
        "plt.ylabel('Accuracy');"
      ],
      "id": "1TcYTOxZhGfI"
    },
    {
      "cell_type": "markdown",
      "source": [
        "Let's zoom at c = [2:0.01:5] area"
      ],
      "metadata": {
        "id": "EUDEdE6uq6hp"
      },
      "id": "EUDEdE6uq6hp"
    },
    {
      "cell_type": "code",
      "source": [
        "g = 0.01\n",
        "c_range = list(np.arange(2,2.5,0.01))\n",
        "accuracy = []\n",
        "for c in c_range:\n",
        "  svc = SVC(kernel='rbf', C=c, gamma = g)\n",
        "  score = cross_val_score(svc, X_train_less, y_train_less, cv=10, scoring='accuracy')\n",
        "  score_mean = score.mean()\n",
        "  accuracy.append(score_mean)\n",
        "plt.plot(c_range, accuracy)\n",
        "plt.xlabel('Value of C for SVC with gamma = 0.01')\n",
        "plt.ylabel('Accuracy');"
      ],
      "metadata": {
        "colab": {
          "base_uri": "https://localhost:8080/",
          "height": 279
        },
        "id": "q80gHaynq0d0",
        "outputId": "d3ce7b30-6e95-4d44-bf6c-b2be3ca81215"
      },
      "id": "q80gHaynq0d0",
      "execution_count": null,
      "outputs": [
        {
          "output_type": "display_data",
          "data": {
            "text/plain": [
              "<Figure size 432x288 with 1 Axes>"
            ],
            "image/png": "[encoded data removed]"
          },
          "metadata": {
            "needs_background": "light"
          }
        }
      ]
    },
    {
      "cell_type": "markdown",
      "source": [
        "->According to the accuracies, the best c = 2.3, so I will use it."
      ],
      "metadata": {
        "id": "VdW0y1OllwYQ"
      },
      "id": "VdW0y1OllwYQ"
    },
    {
      "cell_type": "markdown",
      "source": [
        "Sweeping on gamma and zooming (c = 2.3)"
      ],
      "metadata": {
        "id": "OaPDXiKSl5Ua"
      },
      "id": "OaPDXiKSl5Ua"
    },
    {
      "cell_type": "markdown",
      "source": [
        "Let's zoom at g = [2:0.01:5] area"
      ],
      "metadata": {
        "id": "QdaS7jhpsOqU"
      },
      "id": "QdaS7jhpsOqU"
    },
    {
      "cell_type": "code",
      "source": [
        "c = 2.3\n",
        "g_range = list(np.arange(0.01,20,0.5))\n",
        "accuracy = []\n",
        "for g in g_range:\n",
        "  svc = SVC(kernel='rbf', C=c, gamma = g)\n",
        "  score = cross_val_score(svc, X_train_less, y_train_less, cv=10, scoring='accuracy')\n",
        "  score_mean = score.mean()\n",
        "  accuracy.append(score_mean)\n",
        "plt.plot(g_range, accuracy)\n",
        "plt.xlabel('Value of gamma for SVC with c = 2.3')\n",
        "plt.ylabel('Accuracy');"
      ],
      "metadata": {
        "colab": {
          "base_uri": "https://localhost:8080/",
          "height": 279
        },
        "id": "QPdgO_dnmnnK",
        "outputId": "b9f7c410-7ff3-4a30-92f1-4f76c11fa0e7"
      },
      "id": "QPdgO_dnmnnK",
      "execution_count": null,
      "outputs": [
        {
          "output_type": "display_data",
          "data": {
            "text/plain": [
              "<Figure size 432x288 with 1 Axes>"
            ],
            "image/png": "[encoded data removed]"
          },
          "metadata": {
            "needs_background": "light"
          }
        }
      ]
    },
    {
      "cell_type": "markdown",
      "source": [
        "Let's zoom at g = [0.0001:0.1:2.5] area"
      ],
      "metadata": {
        "id": "VoiROKfZt3dV"
      },
      "id": "VoiROKfZt3dV"
    },
    {
      "cell_type": "code",
      "source": [
        "c = 2.3\n",
        "g_range = list(np.arange(0.0001,2.5,0.1))\n",
        "accuracy = []\n",
        "for g in g_range:\n",
        "  svc = SVC(kernel='rbf', C=c, gamma = g)\n",
        "  score = cross_val_score(svc, X_train_less, y_train_less, cv=10, scoring='accuracy')\n",
        "  score_mean = score.mean()\n",
        "  accuracy.append(score_mean)\n",
        "plt.plot(g_range, accuracy)\n",
        "plt.xlabel('Value of gamma for SVC with c = 2.3')\n",
        "plt.ylabel('Accuracy');"
      ],
      "metadata": {
        "colab": {
          "base_uri": "https://localhost:8080/",
          "height": 279
        },
        "id": "hBxsR9Klt0h1",
        "outputId": "77842d3f-bf59-45b1-b12d-9e6547527e22"
      },
      "id": "hBxsR9Klt0h1",
      "execution_count": null,
      "outputs": [
        {
          "output_type": "display_data",
          "data": {
            "text/plain": [
              "<Figure size 432x288 with 1 Axes>"
            ],
            "image/png": "[encoded data removed]"
          },
          "metadata": {
            "needs_background": "light"
          }
        }
      ]
    },
    {
      "cell_type": "markdown",
      "source": [
        "Let's zoom at g = [0.0001:0.01:0.3] area"
      ],
      "metadata": {
        "id": "BvobsVWlua6D"
      },
      "id": "BvobsVWlua6D"
    },
    {
      "cell_type": "code",
      "source": [
        "c = 2.3\n",
        "g_range = list(np.arange(0.0001,0.3,0.01))\n",
        "accuracy = []\n",
        "for g in g_range:\n",
        "  svc = SVC(kernel='rbf', C=c, gamma = g)\n",
        "  score = cross_val_score(svc, X_train_less, y_train_less, cv=10, scoring='accuracy')\n",
        "  score_mean = score.mean()\n",
        "  accuracy.append(score_mean)\n",
        "plt.plot(g_range, accuracy)\n",
        "plt.xlabel('Value of gamma for SVC with c = 2.3')\n",
        "plt.ylabel('Accuracy');"
      ],
      "metadata": {
        "colab": {
          "base_uri": "https://localhost:8080/",
          "height": 279
        },
        "id": "nwzDG4Ieubt2",
        "outputId": "86b462fa-e6c1-4043-f31f-ed089ec851d4"
      },
      "id": "nwzDG4Ieubt2",
      "execution_count": null,
      "outputs": [
        {
          "output_type": "display_data",
          "data": {
            "text/plain": [
              "<Figure size 432x288 with 1 Axes>"
            ],
            "image/png": "[encoded data removed]"
          },
          "metadata": {
            "needs_background": "light"
          }
        }
      ]
    },
    {
      "cell_type": "markdown",
      "source": [
        "Let's zoom at g = [0.0001:0.001:0.05] area"
      ],
      "metadata": {
        "id": "VrXNGCCewkO-"
      },
      "id": "VrXNGCCewkO-"
    },
    {
      "cell_type": "code",
      "source": [
        "c = 2.3\n",
        "g_range = list(np.arange(0.0001,0.05,0.001))\n",
        "accuracy = []\n",
        "for g in g_range:\n",
        "  svc = SVC(kernel='rbf', C=c, gamma = g)\n",
        "  score = cross_val_score(svc, X_train_less, y_train_less, cv=10, scoring='accuracy')\n",
        "  score_mean = score.mean()\n",
        "  accuracy.append(score_mean)\n",
        "plt.plot(g_range, accuracy)\n",
        "plt.xlabel('Value of gamma for SVC with c = 2.3')\n",
        "plt.ylabel('Accuracy');"
      ],
      "metadata": {
        "colab": {
          "base_uri": "https://localhost:8080/",
          "height": 279
        },
        "id": "1UR5zmtnweXw",
        "outputId": "1e396ece-f851-44e7-aba2-cbc3b077d3d0"
      },
      "id": "1UR5zmtnweXw",
      "execution_count": null,
      "outputs": [
        {
          "output_type": "display_data",
          "data": {
            "text/plain": [
              "<Figure size 432x288 with 1 Axes>"
            ],
            "image/png": "[encoded data removed]"
          },
          "metadata": {
            "needs_background": "light"
          }
        }
      ]
    },
    {
      "cell_type": "markdown",
      "source": [
        "Let's zoom at g = [0.01:0.001:0.02] area"
      ],
      "metadata": {
        "id": "oEn_vHZZxbXT"
      },
      "id": "oEn_vHZZxbXT"
    },
    {
      "cell_type": "code",
      "source": [
        "c = 2.3\n",
        "g_range = list(np.arange(0.01,0.02,0.001))\n",
        "accuracy = []\n",
        "for g in g_range:\n",
        "  svc = SVC(kernel='rbf', C=c, gamma = g)\n",
        "  score = cross_val_score(svc, X_train_less, y_train_less, cv=10, scoring='accuracy')\n",
        "  score_mean = score.mean()\n",
        "  accuracy.append(score_mean)\n",
        "plt.plot(g_range, accuracy)\n",
        "plt.xlabel('Value of gamma for SVC with c = 2.3')\n",
        "plt.ylabel('Accuracy');"
      ],
      "metadata": {
        "colab": {
          "base_uri": "https://localhost:8080/",
          "height": 279
        },
        "id": "R9aBmvV4xPmZ",
        "outputId": "66be6894-0a7a-4dc3-c4fc-a061efe23a33"
      },
      "id": "R9aBmvV4xPmZ",
      "execution_count": null,
      "outputs": [
        {
          "output_type": "display_data",
          "data": {
            "text/plain": [
              "<Figure size 432x288 with 1 Axes>"
            ],
            "image/png": "[encoded data removed]"
          },
          "metadata": {
            "needs_background": "light"
          }
        }
      ]
    },
    {
      "cell_type": "markdown",
      "source": [
        "->According to the accuracies, the best g = 0.015, so I will use it.\n",
        "\n"
      ],
      "metadata": {
        "id": "ajmJzvVVwFtH"
      },
      "id": "ajmJzvVVwFtH"
    },
    {
      "cell_type": "markdown",
      "source": [
        "Using RBF (c=2.3, gamma = 0.015)"
      ],
      "metadata": {
        "id": "wRma1cJVwL6u"
      },
      "id": "wRma1cJVwL6u"
    },
    {
      "cell_type": "code",
      "source": [
        "c = 2.3\n",
        "g = 0.015\n",
        "svc = SVC(kernel='rbf', C=c, gamma = g)\n",
        "svc.fit(X_train_less,y_train_less)\n",
        "predict = svc.predict(X_test_less)\n",
        "counter = 0.0\n",
        "length = len(y_test_less)\n",
        "for i in range(length):\n",
        "  if y_test_less[i]!=predict[i]:\n",
        "    counter += counter\n",
        "error_percentage = counter/length*100\n",
        "print(\"Error percentage:\", str(error_percentage)+'%')"
      ],
      "metadata": {
        "colab": {
          "base_uri": "https://localhost:8080/"
        },
        "id": "28y-1xUQwVH0",
        "outputId": "24e5a3f7-2a82-47c3-ce33-090437f033b1"
      },
      "id": "28y-1xUQwVH0",
      "execution_count": null,
      "outputs": [
        {
          "output_type": "stream",
          "name": "stdout",
          "text": [
            "Error percentage: 0.0%\n"
          ]
        }
      ]
    },
    {
      "cell_type": "markdown",
      "source": [
        "---------------------------------------------------------------------------------------------------------------------------------------------------------------------------------------------------------------------"
      ],
      "metadata": {
        "id": "aiAwQckumrHj"
      },
      "id": "aiAwQckumrHj"
    },
    {
      "cell_type": "markdown",
      "source": [
        "**Task 2 (Bonus)**"
      ],
      "metadata": {
        "id": "YBB1oyD9mzty"
      },
      "id": "YBB1oyD9mzty"
    },
    {
      "cell_type": "markdown",
      "source": [
        "Importing"
      ],
      "metadata": {
        "id": "MuIS3IfE02nx"
      },
      "id": "MuIS3IfE02nx"
    },
    {
      "cell_type": "code",
      "source": [
        "from sklearn.feature_extraction.text import TfidfVectorizer\n",
        "from sklearn.naive_bayes import GaussianNB"
      ],
      "metadata": {
        "id": "Bu64VKb_035K"
      },
      "id": "Bu64VKb_035K",
      "execution_count": null,
      "outputs": []
    },
    {
      "cell_type": "markdown",
      "source": [
        "Getting data"
      ],
      "metadata": {
        "id": "hrnnpTeh59Ij"
      },
      "id": "hrnnpTeh59Ij"
    },
    {
      "cell_type": "code",
      "source": [
        "spam = pd.read_csv(\"/content/spam.csv\", encoding='latin-1')\n",
        "spam.head()"
      ],
      "metadata": {
        "colab": {
          "base_uri": "https://localhost:8080/",
          "height": 206
        },
        "id": "v8vfJbX7m18U",
        "outputId": "0da69c33-6b1d-4e4f-fcab-bcd6ef194595"
      },
      "id": "v8vfJbX7m18U",
      "execution_count": null,
      "outputs": [
        {
          "output_type": "execute_result",
          "data": {
            "text/plain": [
              "     v1                                                 v2 Unnamed: 2  \\\n",
              "0   ham  Go until jurong point, crazy.. Available only ...        NaN   \n",
              "1   ham                      Ok lar... Joking wif u oni...        NaN   \n",
              "2  spam  Free entry in 2 a wkly comp to win FA Cup fina...        NaN   \n",
              "3   ham  U dun say so early hor... U c already then say...        NaN   \n",
              "4   ham  Nah I don't think he goes to usf, he lives aro...        NaN   \n",
              "\n",
              "  Unnamed: 3 Unnamed: 4  \n",
              "0        NaN        NaN  \n",
              "1        NaN        NaN  \n",
              "2        NaN        NaN  \n",
              "3        NaN        NaN  \n",
              "4        NaN        NaN  "
            ],
            "text/html": [
              "\n",
              "  <div id=\"df-84b1cccf-4d3a-4d16-b9ed-c2de00357c4c\">\n",
              "    <div class=\"colab-df-container\">\n",
              "      <div>\n",
              "<style scoped>\n",
              "    .dataframe tbody tr th:only-of-type {\n",
              "        vertical-align: middle;\n",
              "    }\n",
              "\n",
              "    .dataframe tbody tr th {\n",
              "        vertical-align: top;\n",
              "    }\n",
              "\n",
              "    .dataframe thead th {\n",
              "        text-align: right;\n",
              "    }\n",
              "</style>\n",
              "<table border=\"1\" class=\"dataframe\">\n",
              "  <thead>\n",
              "    <tr style=\"text-align: right;\">\n",
              "      <th></th>\n",
              "      <th>v1</th>\n",
              "      <th>v2</th>\n",
              "      <th>Unnamed: 2</th>\n",
              "      <th>Unnamed: 3</th>\n",
              "      <th>Unnamed: 4</th>\n",
              "    </tr>\n",
              "  </thead>\n",
              "  <tbody>\n",
              "    <tr>\n",
              "      <th>0</th>\n",
              "      <td>ham</td>\n",
              "      <td>Go until jurong point, crazy.. Available only ...</td>\n",
              "      <td>NaN</td>\n",
              "      <td>NaN</td>\n",
              "      <td>NaN</td>\n",
              "    </tr>\n",
              "    <tr>\n",
              "      <th>1</th>\n",
              "      <td>ham</td>\n",
              "      <td>Ok lar... Joking wif u oni...</td>\n",
              "      <td>NaN</td>\n",
              "      <td>NaN</td>\n",
              "      <td>NaN</td>\n",
              "    </tr>\n",
              "    <tr>\n",
              "      <th>2</th>\n",
              "      <td>spam</td>\n",
              "      <td>Free entry in 2 a wkly comp to win FA Cup fina...</td>\n",
              "      <td>NaN</td>\n",
              "      <td>NaN</td>\n",
              "      <td>NaN</td>\n",
              "    </tr>\n",
              "    <tr>\n",
              "      <th>3</th>\n",
              "      <td>ham</td>\n",
              "      <td>U dun say so early hor... U c already then say...</td>\n",
              "      <td>NaN</td>\n",
              "      <td>NaN</td>\n",
              "      <td>NaN</td>\n",
              "    </tr>\n",
              "    <tr>\n",
              "      <th>4</th>\n",
              "      <td>ham</td>\n",
              "      <td>Nah I don't think he goes to usf, he lives aro...</td>\n",
              "      <td>NaN</td>\n",
              "      <td>NaN</td>\n",
              "      <td>NaN</td>\n",
              "    </tr>\n",
              "  </tbody>\n",
              "</table>\n",
              "</div>\n",
              "      <button class=\"colab-df-convert\" onclick=\"convertToInteractive('df-84b1cccf-4d3a-4d16-b9ed-c2de00357c4c')\"\n",
              "              title=\"Convert this dataframe to an interactive table.\"\n",
              "              style=\"display:none;\">\n",
              "        \n",
              "  <svg xmlns=\"http://www.w3.org/2000/svg\" height=\"24px\"viewBox=\"0 0 24 24\"\n",
              "       width=\"24px\">\n",
              "    <path d=\"M0 0h24v24H0V0z\" fill=\"none\"/>\n",
              "    <path d=\"M18.56 5.44l.94 2.06.94-2.06 2.06-.94-2.06-.94-.94-2.06-.94 2.06-2.06.94zm-11 1L8.5 8.5l.94-2.06 2.06-.94-2.06-.94L8.5 2.5l-.94 2.06-2.06.94zm10 10l.94 2.06.94-2.06 2.06-.94-2.06-.94-.94-2.06-.94 2.06-2.06.94z\"/><path d=\"M17.41 7.96l-1.37-1.37c-.4-.4-.92-.59-1.43-.59-.52 0-1.04.2-1.43.59L10.3 9.45l-7.72 7.72c-.78.78-.78 2.05 0 2.83L4 21.41c.39.39.9.59 1.41.59.51 0 1.02-.2 1.41-.59l7.78-7.78 2.81-2.81c.8-.78.8-2.07 0-2.86zM5.41 20L4 18.59l7.72-7.72 1.47 1.35L5.41 20z\"/>\n",
              "  </svg>\n",
              "      </button>\n",
              "      \n",
              "  <style>\n",
              "    .colab-df-container {\n",
              "      display:flex;\n",
              "      flex-wrap:wrap;\n",
              "      gap: 12px;\n",
              "    }\n",
              "\n",
              "    .colab-df-convert {\n",
              "      background-color: #E8F0FE;\n",
              "      border: none;\n",
              "      border-radius: 50%;\n",
              "      cursor: pointer;\n",
              "      display: none;\n",
              "      fill: #1967D2;\n",
              "      height: 32px;\n",
              "      padding: 0 0 0 0;\n",
              "      width: 32px;\n",
              "    }\n",
              "\n",
              "    .colab-df-convert:hover {\n",
              "      background-color: #E2EBFA;\n",
              "      box-shadow: 0px 1px 2px rgba(60, 64, 67, 0.3), 0px 1px 3px 1px rgba(60, 64, 67, 0.15);\n",
              "      fill: #174EA6;\n",
              "    }\n",
              "\n",
              "    [theme=dark] .colab-df-convert {\n",
              "      background-color: #3B4455;\n",
              "      fill: #D2E3FC;\n",
              "    }\n",
              "\n",
              "    [theme=dark] .colab-df-convert:hover {\n",
              "      background-color: #434B5C;\n",
              "      box-shadow: 0px 1px 3px 1px rgba(0, 0, 0, 0.15);\n",
              "      filter: drop-shadow(0px 1px 2px rgba(0, 0, 0, 0.3));\n",
              "      fill: #FFFFFF;\n",
              "    }\n",
              "  </style>\n",
              "\n",
              "      <script>\n",
              "        const buttonEl =\n",
              "          document.querySelector('#df-84b1cccf-4d3a-4d16-b9ed-c2de00357c4c button.colab-df-convert');\n",
              "        buttonEl.style.display =\n",
              "          google.colab.kernel.accessAllowed ? 'block' : 'none';\n",
              "\n",
              "        async function convertToInteractive(key) {\n",
              "          const element = document.querySelector('#df-84b1cccf-4d3a-4d16-b9ed-c2de00357c4c');\n",
              "          const dataTable =\n",
              "            await google.colab.kernel.invokeFunction('convertToInteractive',\n",
              "                                                     [key], {});\n",
              "          if (!dataTable) return;\n",
              "\n",
              "          const docLinkHtml = 'Like what you see? Visit the ' +\n",
              "            '<a target=\"_blank\" href=https://colab.research.google.com/notebooks/data_table.ipynb>data table notebook</a>'\n",
              "            + ' to learn more about interactive tables.';\n",
              "          element.innerHTML = '';\n",
              "          dataTable['output_type'] = 'display_data';\n",
              "          await google.colab.output.renderOutput(dataTable, element);\n",
              "          const docLink = document.createElement('div');\n",
              "          docLink.innerHTML = docLinkHtml;\n",
              "          element.appendChild(docLink);\n",
              "        }\n",
              "      </script>\n",
              "    </div>\n",
              "  </div>\n",
              "  "
            ]
          },
          "metadata": {},
          "execution_count": 65
        }
      ]
    },
    {
      "cell_type": "markdown",
      "source": [
        "Some information about data"
      ],
      "metadata": {
        "id": "Y1aFBgZs0AdB"
      },
      "id": "Y1aFBgZs0AdB"
    },
    {
      "cell_type": "code",
      "source": [
        "print(\"Number of duplicates:\", spam.duplicated().sum())"
      ],
      "metadata": {
        "colab": {
          "base_uri": "https://localhost:8080/"
        },
        "id": "Tl1bPcIY0Dcv",
        "outputId": "e13fb498-4f63-4526-e878-2a10291619f3"
      },
      "id": "Tl1bPcIY0Dcv",
      "execution_count": null,
      "outputs": [
        {
          "output_type": "stream",
          "name": "stdout",
          "text": [
            "Number of duplicates: 403\n"
          ]
        }
      ]
    },
    {
      "cell_type": "code",
      "source": [
        "spam.drop_duplicates(inplace=True)"
      ],
      "metadata": {
        "id": "j62CMh1b0Zsh"
      },
      "id": "j62CMh1b0Zsh",
      "execution_count": null,
      "outputs": []
    },
    {
      "cell_type": "markdown",
      "source": [
        "Visulaization for spam and ham data"
      ],
      "metadata": {
        "id": "yVeNX1pE0hPv"
      },
      "id": "yVeNX1pE0hPv"
    },
    {
      "cell_type": "code",
      "source": [
        "spam['v1'].hist()"
      ],
      "metadata": {
        "colab": {
          "base_uri": "https://localhost:8080/",
          "height": 282
        },
        "id": "FCRNWUyz0o0T",
        "outputId": "31833f8e-f6c2-4d4c-dc0e-df157c15328a"
      },
      "id": "FCRNWUyz0o0T",
      "execution_count": null,
      "outputs": [
        {
          "output_type": "execute_result",
          "data": {
            "text/plain": [
              "<matplotlib.axes._subplots.AxesSubplot at 0x7f288c46f210>"
            ]
          },
          "metadata": {},
          "execution_count": 40
        },
        {
          "output_type": "display_data",
          "data": {
            "text/plain": [
              "<Figure size 432x288 with 1 Axes>"
            ],
            "image/png": "[encoded data removed]"
          },
          "metadata": {
            "needs_background": "light"
          }
        }
      ]
    },
    {
      "cell_type": "markdown",
      "source": [
        "Preprocessing for this data"
      ],
      "metadata": {
        "id": "a9FIKfwZ0tNp"
      },
      "id": "a9FIKfwZ0tNp"
    },
    {
      "cell_type": "code",
      "source": [
        "#preprocessing\n",
        "spam['v1'].replace({\"ham\":1, \"spam\":0}, inplace = True)\n",
        "x_spam = spam['v2']\n",
        "y_spam = spam['v1']"
      ],
      "metadata": {
        "id": "7EvLZXs00xle"
      },
      "id": "7EvLZXs00xle",
      "execution_count": null,
      "outputs": []
    },
    {
      "cell_type": "code",
      "source": [
        "#fitting data\n",
        "temp_spam = TfidfVectorizer()\n",
        "temp_spam.fit(x_spam)\n",
        "x_spam = temp_spam.fit_transform(x_spam)"
      ],
      "metadata": {
        "id": "UD9oqgaJ4cA3"
      },
      "id": "UD9oqgaJ4cA3",
      "execution_count": null,
      "outputs": []
    },
    {
      "cell_type": "code",
      "source": [
        "#splitting data\n",
        "x_spam_train , x_spam_test , y_spam_train , y_spam_test = train_test_split(x_spam, y_spam, test_size = 0.1 , random_state = 10)"
      ],
      "metadata": {
        "id": "9iE-1ibJ4Z1e"
      },
      "id": "9iE-1ibJ4Z1e",
      "execution_count": null,
      "outputs": []
    },
    {
      "cell_type": "markdown",
      "source": [
        "Applying Naive Bayes"
      ],
      "metadata": {
        "id": "DTT2SOVh1J_p"
      },
      "id": "DTT2SOVh1J_p"
    },
    {
      "cell_type": "code",
      "source": [
        "#Create a Gaussian Classifier\n",
        "gnb = GaussianNB()\n",
        "#Train the model using the training sets\n",
        "gnb.fit(x_spam_train.toarray(), y_spam_train)\n",
        "#Predict the response for test dataset\n",
        "y_spam_pred = gnb.predict(x_spam_test.toarray())"
      ],
      "metadata": {
        "id": "HYdLA86f1VQ5"
      },
      "id": "HYdLA86f1VQ5",
      "execution_count": null,
      "outputs": []
    },
    {
      "cell_type": "code",
      "source": [
        "print(\"Accuracy:\", str(metrics.accuracy_score(y_spam_test, y_spam_pred)*100)+'%')"
      ],
      "metadata": {
        "colab": {
          "base_uri": "https://localhost:8080/"
        },
        "id": "qPrZhUUs5v4l",
        "outputId": "f04fb07f-14f5-4223-e5fb-0a00ffbb260a"
      },
      "id": "qPrZhUUs5v4l",
      "execution_count": null,
      "outputs": [
        {
          "output_type": "stream",
          "name": "stdout",
          "text": [
            "Accuracy: 88.78143133462282%\n"
          ]
        }
      ]
    }
  ],
  "metadata": {
    "accelerator": "GPU",
    "colab": {
      "provenance": []
    },
    "gpuClass": "standard",
    "kernelspec": {
      "display_name": "Python 3",
      "language": "python",
      "name": "python3"
    },
    "language_info": {
      "codemirror_mode": {
        "name": "ipython",
        "version": 3
      },
      "file_extension": ".py",
      "mimetype": "text/x-python",
      "name": "python",
      "nbconvert_exporter": "python",
      "pygments_lexer": "ipython3",
      "version": "3.8.10"
    }
  },
  "nbformat": 4,
  "nbformat_minor": 5
}