{
  "nbformat": 4,
  "nbformat_minor": 0,
  "metadata": {
    "colab": {
      "provenance": []
    },
    "kernelspec": {
      "name": "python3",
      "display_name": "Python 3"
    },
    "language_info": {
      "name": "python"
    }
  },
  "cells": [
    {
      "cell_type": "markdown",
      "source": [
        "**Importing**"
      ],
      "metadata": {
        "id": "T6yuHIScAzPS"
      }
    },
    {
      "cell_type": "code",
      "source": [
        "from sklearn.metrics import confusion_matrix\n",
        "from sklearn.metrics import f1_score\n",
        "from sklearn.metrics import classification_report"
      ],
      "metadata": {
        "id": "tw0qSdD5NSdY"
      },
      "execution_count": null,
      "outputs": []
    },
    {
      "cell_type": "code",
      "source": [
        "from scipy.stats import mode\n",
        "from sklearn.metrics import accuracy_score\n",
        "from sklearn.model_selection import train_test_split\n",
        "\n",
        "\n",
        "from sklearn import datasets, metrics\n",
        "from sklearn.naive_bayes import GaussianNB"
      ],
      "metadata": {
        "id": "gQJixKGOAz-n"
      },
      "execution_count": null,
      "outputs": []
    },
    {
      "cell_type": "code",
      "source": [
        "import numpy as np\n",
        "from sklearn.datasets import fetch_openml\n",
        "from copy import deepcopy\n",
        "import matplotlib.pyplot as plt\n",
        "\n",
        "from sklearn.metrics import silhouette_score"
      ],
      "metadata": {
        "id": "fXtCBOkne9YU"
      },
      "execution_count": null,
      "outputs": []
    },
    {
      "cell_type": "code",
      "source": [
        "import random as rd\n",
        "from sklearn import preprocessing"
      ],
      "metadata": {
        "id": "IMkmx6Qv1h1k"
      },
      "execution_count": null,
      "outputs": []
    },
    {
      "cell_type": "code",
      "source": [
        "from sklearn import datasets\n",
        "from keras.datasets import mnist"
      ],
      "metadata": {
        "id": "x5hRYiDi1h1l"
      },
      "execution_count": null,
      "outputs": []
    },
    {
      "cell_type": "code",
      "source": [
        "import pandas as pd\n",
        "\n",
        "import itertools\n",
        "\n",
        "from sklearn.preprocessing import LabelEncoder\n",
        "from sklearn.preprocessing import StandardScaler\n",
        "from sklearn.model_selection import cross_val_score\n",
        "from sklearn.model_selection import train_test_split\n",
        "from sklearn import metrics\n",
        "from sklearn.model_selection import GridSearchCV\n",
        "from sklearn.preprocessing import StandardScaler\n",
        "from sklearn.svm import SVC\n",
        "\n",
        "import matplotlib.gridspec as gridspec\n",
        "\n",
        "from mlxtend.plotting import plot_decision_regions\n",
        "from mlxtend.preprocessing import shuffle_arrays_unison\n",
        "\n",
        "import seaborn as sns\n",
        "\n",
        "from tqdm.notebook import tqdm_notebook as tqdm"
      ],
      "metadata": {
        "id": "aG1ymLKd1h1m"
      },
      "execution_count": null,
      "outputs": []
    },
    {
      "cell_type": "markdown",
      "source": [
        "**Bayesian classifier implementation**"
      ],
      "metadata": {
        "id": "j-AZtc2gA3g1"
      }
    },
    {
      "cell_type": "code",
      "source": [
        "class BayesianClassifier:\n",
        "    def __init__(self):\n",
        "        self.y_train = None\n",
        "        self.mean = None\n",
        "        self.std = None\n",
        "    \n",
        "    def fit(self, X, y):\n",
        "        self.classes = np.unique(y)\n",
        "        self.parameters = []\n",
        "        self.mean = np.mean(X,axis=0)\n",
        "        self.std = np.std(X,axis=0)\n",
        "        for i in range(len(self.std)):\n",
        "          if (self.std[i] < 0.00000000001):\n",
        "            self.std[i] = 0.00000000001\n",
        "        for c in self.classes:\n",
        "            X_c = (X[y == c]-self.mean)/self.std\n",
        "            mean = np.mean(X_c, axis=0)\n",
        "            var = np.var(X_c, axis=0)\n",
        "            self.parameters.append((mean, var))\n",
        "        self.y_train = y\n",
        "\n",
        "    def predict(self, X):\n",
        "      X = (X-self.mean)/self.std\n",
        "      likelihood = []\n",
        "      for mean, var in self.parameters:\n",
        "          likelihood.append(np.exp(- (X - mean) ** 2 / (2 * var)) / np.sqrt(2 * np.pi * var))\n",
        "      likelihood = np.array(likelihood)\n",
        "      class_count = np.bincount(self.y_train)\n",
        "      length = len(class_count)\n",
        "      class_count = class_count/class_count.sum()\n",
        "      class_count = class_count.reshape(length,1,1)\n",
        "      post_prob = likelihood * class_count\n",
        "      probb = np.argmax(post_prob, axis=0).tolist()\n",
        "      result = []\n",
        "      for i in range(len(probb)):\n",
        "        result.append(max(set(probb[i]), key = probb[i].count))\n",
        "      return np.array(result)"
      ],
      "metadata": {
        "id": "9s2e6uAZfmNT"
      },
      "execution_count": null,
      "outputs": []
    },
    {
      "cell_type": "markdown",
      "source": [
        "**IRIS data**"
      ],
      "metadata": {
        "id": "XfxGTIFRdagi"
      }
    },
    {
      "cell_type": "markdown",
      "source": [
        "Reading and pre-processing"
      ],
      "metadata": {
        "id": "ZETK1fAFi210"
      }
    },
    {
      "cell_type": "code",
      "source": [
        "iris = datasets.load_iris()\n",
        "X = iris.data\n",
        "y = iris.target\n",
        "\n",
        "# Split the data into training and test sets\n",
        "X_train, X_test, y_train, y_test = train_test_split(X, y, test_size=0.2)"
      ],
      "metadata": {
        "id": "1XdPl8RAdcjs"
      },
      "execution_count": null,
      "outputs": []
    },
    {
      "cell_type": "markdown",
      "source": [
        "**Applying my bayesian classifier on IRIS data**"
      ],
      "metadata": {
        "id": "Xam2YPsvd1Ok"
      }
    },
    {
      "cell_type": "code",
      "source": [
        "# Instantiate the classifier and fit it to the training data\n",
        "bc = BayesianClassifier()\n",
        "bc.fit(X_train, y_train)\n",
        "\n",
        "# Make predictions on the test set\n",
        "y_pred = bc.predict(X_test)\n",
        "\n",
        "# Evaluate the model's performance\n",
        "print(\"Accuracy:\", str(accuracy_score(y_test, y_pred)*100)+'%')"
      ],
      "metadata": {
        "colab": {
          "base_uri": "https://localhost:8080/"
        },
        "id": "leyjIT5heBmE",
        "outputId": "2a9e0650-1292-439d-ea63-7872090fc3c0"
      },
      "execution_count": null,
      "outputs": [
        {
          "output_type": "stream",
          "name": "stdout",
          "text": [
            "Accuracy: 83.33333333333334%\n"
          ]
        }
      ]
    },
    {
      "cell_type": "markdown",
      "source": [
        "**Scores**"
      ],
      "metadata": {
        "id": "gpCR9G5MjgLc"
      }
    },
    {
      "cell_type": "markdown",
      "source": [
        "Confusion matrix"
      ],
      "metadata": {
        "id": "vA7bU9cOjgLd"
      }
    },
    {
      "cell_type": "code",
      "source": [
        "cm = confusion_matrix(y_test,y_pred)\n",
        "print(\"Confusion Matrix:\")\n",
        "print(cm)"
      ],
      "metadata": {
        "colab": {
          "base_uri": "https://localhost:8080/"
        },
        "outputId": "ad76bf40-bdcd-4d00-8e35-8549b588410e",
        "id": "_8NncFJzjgLd"
      },
      "execution_count": null,
      "outputs": [
        {
          "output_type": "stream",
          "name": "stdout",
          "text": [
            "Confusion Matrix:\n",
            "[[12  0  0]\n",
            " [ 0  8  0]\n",
            " [ 0  5  5]]\n"
          ]
        }
      ]
    },
    {
      "cell_type": "code",
      "source": [
        "sns.heatmap(cm,cmap=\"Greens\",annot=True,\n",
        "            cbar_kws={\"orientation\":\"vertical\",\"label\":\"color bar\"},\n",
        "            xticklabels=[0,1],yticklabels=[0,1])\n",
        "plt.xlabel(\"Predicted\")\n",
        "plt.ylabel(\"Actual\")\n",
        "plt.title(\"Confusion Matrix\")\n",
        "plt.show()"
      ],
      "metadata": {
        "colab": {
          "base_uri": "https://localhost:8080/",
          "height": 295
        },
        "outputId": "7f2372cc-5efa-4e0e-e352-9640520fd3fd",
        "id": "v2Uqf90LjgLd"
      },
      "execution_count": null,
      "outputs": [
        {
          "output_type": "display_data",
          "data": {
            "text/plain": [
              "<Figure size 432x288 with 2 Axes>"
            ],
            "image/png": "[encoded data removed]"
          },
          "metadata": {
            "needs_background": "light"
          }
        }
      ]
    },
    {
      "cell_type": "markdown",
      "source": [
        "Normalized confusion matrix"
      ],
      "metadata": {
        "id": "ZIAUADbpjgLe"
      }
    },
    {
      "cell_type": "code",
      "source": [
        "print(\"Normalized Confusion Matrix:\")\n",
        "cm_normalized=np.round(cm/np.sum(cm,axis=1).reshape(-1,1),2)\n",
        "print(cm_normalized)"
      ],
      "metadata": {
        "colab": {
          "base_uri": "https://localhost:8080/"
        },
        "outputId": "1a03e0dd-6659-4890-860b-7d495f7490cc",
        "id": "AQ2c_bJOjgLe"
      },
      "execution_count": null,
      "outputs": [
        {
          "output_type": "stream",
          "name": "stdout",
          "text": [
            "Normalized Confusion Matrix:\n",
            "[[1.  0.  0. ]\n",
            " [0.  1.  0. ]\n",
            " [0.  0.5 0.5]]\n"
          ]
        }
      ]
    },
    {
      "cell_type": "markdown",
      "source": [
        "Normalized confusion matrix heatmap"
      ],
      "metadata": {
        "id": "D6Joxzn2jgLe"
      }
    },
    {
      "cell_type": "code",
      "source": [
        "sns.heatmap(cm_normalized, cmap=\"Greens\", annot=True,\n",
        "            cbar_kws={\"orientation\": \"vertical\", \"label\": \"color bar\"},\n",
        "            xticklabels=[0, 1], yticklabels=[0, 1])\n",
        "plt.xlabel(\"Predicted\")\n",
        "plt.ylabel(\"Actual\")\n",
        "plt.title(\"Normalized Confusion Matrix\")\n",
        "plt.show()"
      ],
      "metadata": {
        "colab": {
          "base_uri": "https://localhost:8080/",
          "height": 295
        },
        "outputId": "d83f801c-9b5b-4df3-e194-8efc90d24626",
        "id": "gehwLxOJjgLe"
      },
      "execution_count": null,
      "outputs": [
        {
          "output_type": "display_data",
          "data": {
            "text/plain": [
              "<Figure size 432x288 with 2 Axes>"
            ],
            "image/png": "[encoded data removed]"
          },
          "metadata": {
            "needs_background": "light"
          }
        }
      ]
    },
    {
      "cell_type": "markdown",
      "source": [
        "f1 score"
      ],
      "metadata": {
        "id": "4xdqCESXjgLe"
      }
    },
    {
      "cell_type": "code",
      "source": [
        "f1_scoree = f1_score(np.array(y_test),y_pred,average=None)\n",
        "print(\"f1 score:\",f1_scoree)"
      ],
      "metadata": {
        "colab": {
          "base_uri": "https://localhost:8080/"
        },
        "outputId": "791e173c-349b-4292-ac90-8fb3ff420c01",
        "id": "ccyKyLuwjgLf"
      },
      "execution_count": null,
      "outputs": [
        {
          "output_type": "stream",
          "name": "stdout",
          "text": [
            "f1 score: [1.         0.76190476 0.66666667]\n"
          ]
        }
      ]
    },
    {
      "cell_type": "markdown",
      "source": [
        "Others"
      ],
      "metadata": {
        "id": "AbXe4WqkjgLf"
      }
    },
    {
      "cell_type": "code",
      "source": [
        "print(classification_report(y_test,y_pred))"
      ],
      "metadata": {
        "colab": {
          "base_uri": "https://localhost:8080/"
        },
        "outputId": "64ceccb4-f021-4f0e-bfed-64e8c452b051",
        "id": "3CZ361yBjgLf"
      },
      "execution_count": null,
      "outputs": [
        {
          "output_type": "stream",
          "name": "stdout",
          "text": [
            "              precision    recall  f1-score   support\n",
            "\n",
            "           0       1.00      1.00      1.00        12\n",
            "           1       0.62      1.00      0.76         8\n",
            "           2       1.00      0.50      0.67        10\n",
            "\n",
            "    accuracy                           0.83        30\n",
            "   macro avg       0.87      0.83      0.81        30\n",
            "weighted avg       0.90      0.83      0.83        30\n",
            "\n"
          ]
        }
      ]
    },
    {
      "cell_type": "markdown",
      "source": [
        "**Applying sklearn bayesian classifier on IRIS data**"
      ],
      "metadata": {
        "id": "8-xl6V71jvqO"
      }
    },
    {
      "cell_type": "code",
      "source": [
        "# Create an instance of the GaussianNB class\n",
        "clf = GaussianNB()\n",
        "\n",
        "# Train the classifier on the training data\n",
        "clf.fit(X_train, y_train)\n",
        "\n",
        "# Use the classifier to predict the class labels of the test set\n",
        "y_pred = clf.predict(X_test)\n",
        "\n",
        "# Evaluate the classifier's performance\n",
        "accuracy = metrics.accuracy_score(y_test, y_pred)\n",
        "\n",
        "print(\"Accuracy:\", str(accuracy*100)+'%')"
      ],
      "metadata": {
        "colab": {
          "base_uri": "https://localhost:8080/"
        },
        "id": "sjeN4wEijrpL",
        "outputId": "fb67abfd-ea45-4558-8ae2-047944a33d80"
      },
      "execution_count": null,
      "outputs": [
        {
          "output_type": "stream",
          "name": "stdout",
          "text": [
            "Accuracy: 93.33333333333333%\n"
          ]
        }
      ]
    },
    {
      "cell_type": "markdown",
      "source": [
        "**Scores**"
      ],
      "metadata": {
        "id": "0WQHodfAjr-k"
      }
    },
    {
      "cell_type": "markdown",
      "source": [
        "Confusion matrix"
      ],
      "metadata": {
        "id": "35M6X8L1jr-l"
      }
    },
    {
      "cell_type": "code",
      "source": [
        "cm = confusion_matrix(y_test,y_pred)\n",
        "print(\"Confusion Matrix:\")\n",
        "print(cm)"
      ],
      "metadata": {
        "colab": {
          "base_uri": "https://localhost:8080/"
        },
        "outputId": "7e405b09-b089-4545-e315-94100c06ff0d",
        "id": "nH1UHp50jr-l"
      },
      "execution_count": null,
      "outputs": [
        {
          "output_type": "stream",
          "name": "stdout",
          "text": [
            "Confusion Matrix:\n",
            "[[12  0  0]\n",
            " [ 0  8  0]\n",
            " [ 0  2  8]]\n"
          ]
        }
      ]
    },
    {
      "cell_type": "code",
      "source": [
        "sns.heatmap(cm,cmap=\"Greens\",annot=True,\n",
        "            cbar_kws={\"orientation\":\"vertical\",\"label\":\"color bar\"},\n",
        "            xticklabels=[0,1],yticklabels=[0,1])\n",
        "plt.xlabel(\"Predicted\")\n",
        "plt.ylabel(\"Actual\")\n",
        "plt.title(\"Confusion Matrix\")\n",
        "plt.show()"
      ],
      "metadata": {
        "colab": {
          "base_uri": "https://localhost:8080/",
          "height": 295
        },
        "outputId": "3d0fa56e-c57e-4726-9284-2875e832e9f4",
        "id": "j87bpvaTjr-l"
      },
      "execution_count": null,
      "outputs": [
        {
          "output_type": "display_data",
          "data": {
            "text/plain": [
              "<Figure size 432x288 with 2 Axes>"
            ],
            "image/png": "[encoded data removed]"
          },
          "metadata": {
            "needs_background": "light"
          }
        }
      ]
    },
    {
      "cell_type": "markdown",
      "source": [
        "Normalized confusion matrix"
      ],
      "metadata": {
        "id": "av46xIDXjr-l"
      }
    },
    {
      "cell_type": "code",
      "source": [
        "print(\"Normalized Confusion Matrix:\")\n",
        "cm_normalized=np.round(cm/np.sum(cm,axis=1).reshape(-1,1),2)\n",
        "print(cm_normalized)"
      ],
      "metadata": {
        "colab": {
          "base_uri": "https://localhost:8080/"
        },
        "outputId": "e9e40d4a-f8a9-4ac5-9c44-c45ce9ddc3f2",
        "id": "VhutVZrejr-m"
      },
      "execution_count": null,
      "outputs": [
        {
          "output_type": "stream",
          "name": "stdout",
          "text": [
            "Normalized Confusion Matrix:\n",
            "[[1.  0.  0. ]\n",
            " [0.  1.  0. ]\n",
            " [0.  0.2 0.8]]\n"
          ]
        }
      ]
    },
    {
      "cell_type": "markdown",
      "source": [
        "Normalized confusion matrix heatmap"
      ],
      "metadata": {
        "id": "fo7WJUKQjr-m"
      }
    },
    {
      "cell_type": "code",
      "source": [
        "sns.heatmap(cm_normalized, cmap=\"Greens\", annot=True,\n",
        "            cbar_kws={\"orientation\": \"vertical\", \"label\": \"color bar\"},\n",
        "            xticklabels=[0, 1], yticklabels=[0, 1])\n",
        "plt.xlabel(\"Predicted\")\n",
        "plt.ylabel(\"Actual\")\n",
        "plt.title(\"Normalized Confusion Matrix\")\n",
        "plt.show()"
      ],
      "metadata": {
        "colab": {
          "base_uri": "https://localhost:8080/",
          "height": 295
        },
        "outputId": "50b1e987-2bec-4b92-e9ad-2ddca5f1d2fe",
        "id": "zx6Iuylejr-m"
      },
      "execution_count": null,
      "outputs": [
        {
          "output_type": "display_data",
          "data": {
            "text/plain": [
              "<Figure size 432x288 with 2 Axes>"
            ],
            "image/png": "[encoded data removed]"
          },
          "metadata": {
            "needs_background": "light"
          }
        }
      ]
    },
    {
      "cell_type": "markdown",
      "source": [
        "f1 score"
      ],
      "metadata": {
        "id": "mx4rcSsDjr-n"
      }
    },
    {
      "cell_type": "code",
      "source": [
        "f1_scoree = f1_score(np.array(y_test),y_pred,average=None)\n",
        "print(\"f1 score:\",f1_scoree)"
      ],
      "metadata": {
        "colab": {
          "base_uri": "https://localhost:8080/"
        },
        "outputId": "4324751e-dd77-4dda-ba3d-c5b70f40efd4",
        "id": "Do3URAV9jr-n"
      },
      "execution_count": null,
      "outputs": [
        {
          "output_type": "stream",
          "name": "stdout",
          "text": [
            "f1 score: [1.         0.88888889 0.88888889]\n"
          ]
        }
      ]
    },
    {
      "cell_type": "markdown",
      "source": [
        "Others"
      ],
      "metadata": {
        "id": "8VeqdW2cjr-o"
      }
    },
    {
      "cell_type": "code",
      "source": [
        "print(classification_report(y_test,y_pred))"
      ],
      "metadata": {
        "colab": {
          "base_uri": "https://localhost:8080/"
        },
        "outputId": "2080a5b6-b4b3-47c9-8543-02efce5f385c",
        "id": "5pKjR9uJjr-o"
      },
      "execution_count": null,
      "outputs": [
        {
          "output_type": "stream",
          "name": "stdout",
          "text": [
            "              precision    recall  f1-score   support\n",
            "\n",
            "           0       1.00      1.00      1.00        12\n",
            "           1       0.80      1.00      0.89         8\n",
            "           2       1.00      0.80      0.89        10\n",
            "\n",
            "    accuracy                           0.93        30\n",
            "   macro avg       0.93      0.93      0.93        30\n",
            "weighted avg       0.95      0.93      0.93        30\n",
            "\n"
          ]
        }
      ]
    },
    {
      "cell_type": "markdown",
      "source": [
        "**mnist data**"
      ],
      "metadata": {
        "id": "xSlDnxO4EEZF"
      }
    },
    {
      "cell_type": "markdown",
      "metadata": {
        "id": "md76Xl30D2tZ"
      },
      "source": [
        "Visualisation"
      ]
    },
    {
      "cell_type": "code",
      "source": [
        "digits = datasets.load_digits()"
      ],
      "metadata": {
        "id": "JIL4k3NuFOkv"
      },
      "execution_count": null,
      "outputs": []
    },
    {
      "cell_type": "code",
      "execution_count": null,
      "metadata": {
        "colab": {
          "base_uri": "https://localhost:8080/",
          "height": 958
        },
        "outputId": "60bdeead-fe4a-4048-9e28-32644c389e7e",
        "id": "FJiJSxaED2tZ"
      },
      "outputs": [
        {
          "output_type": "display_data",
          "data": {
            "text/plain": [
              "<Figure size 1080x1080 with 100 Axes>"
            ],
            "image/png": "[encoded data removed]"
          },
          "metadata": {}
        }
      ],
      "source": [
        "# A helper display function\n",
        "\n",
        "# check the reshape line, adjust it if needed for your image size\n",
        "def displayData(X,Y):\n",
        "    # set up array\n",
        "    fig, ax = plt.subplots(nrows=10, ncols=10, figsize=(15,15))\n",
        "    fig.suptitle( \"Display randomly images of the training data set\")\n",
        "    # loop over randomly drawn numbers\n",
        "    for i in range(10):\n",
        "        for j in range(10):\n",
        "            ind = np.random.randint(X.shape[0])\n",
        "            tmp = X[ind,:].reshape(8,8)\n",
        "            ax[i,j].set_title(\"Label: {}\".format(Y[ind]))\n",
        "            ax[i,j].imshow(tmp, cmap='gray') # display it as gray colors.\n",
        "            plt.setp(ax[i,j].get_xticklabels(), visible=False)\n",
        "            plt.setp(ax[i,j].get_yticklabels(), visible=False)\n",
        "    \n",
        "    fig.subplots_adjust(hspace=0.5, wspace=0.5)\n",
        "    return tmp\n",
        "data = displayData(digits.images,digits.target) "
      ]
    },
    {
      "cell_type": "markdown",
      "source": [
        "Loading data"
      ],
      "metadata": {
        "id": "EeGXVxddFgxu"
      }
    },
    {
      "cell_type": "code",
      "source": [
        "mnistt = fetch_openml('mnist_784')"
      ],
      "metadata": {
        "id": "R1cRCQq5EEZF"
      },
      "execution_count": null,
      "outputs": []
    },
    {
      "cell_type": "code",
      "source": [
        "X, y = mnistt['data'], mnistt['target']"
      ],
      "metadata": {
        "id": "LP63m6n-EEZF"
      },
      "execution_count": null,
      "outputs": []
    },
    {
      "cell_type": "markdown",
      "source": [
        "pre-processing"
      ],
      "metadata": {
        "id": "ZDbDrX1p2lq4"
      }
    },
    {
      "cell_type": "code",
      "source": [
        "X = np.array(X)\n",
        "y = np.array(y)"
      ],
      "metadata": {
        "id": "KUCiYa_P32-z"
      },
      "execution_count": null,
      "outputs": []
    },
    {
      "cell_type": "code",
      "source": [
        "#train test splitting\n",
        "X_train, X_test, y_train, y_test = train_test_split(X, y, test_size=0.2, random_state=42)"
      ],
      "metadata": {
        "id": "Q6u2V3P09My9"
      },
      "execution_count": null,
      "outputs": []
    },
    {
      "cell_type": "code",
      "source": [
        "#shuffling\n",
        "X_train, y_train = shuffle_arrays_unison(arrays=[X_train, y_train], random_seed=42)\n",
        "X_test, y_test = shuffle_arrays_unison(arrays=[X_test, y_test], random_seed=42)\n",
        "#normalize the data attributes\n",
        "#getting some information about data\n",
        "print(\"x train:\", X_train.shape)\n",
        "print(\"y train:\", y_train.shape)\n",
        "print(\"x test:\", X_test.shape)\n",
        "print(\"x test:\", y_test.shape)\n",
        "print(\"x train max:\",X_train.max())\n",
        "print(\"x train min:\",X_train.min())\n",
        "print(\"y train max:\",y_train.max())\n",
        "print(\"y train min:\",y_train.min())\n",
        "#make each image in a row\n",
        "X_train = X_train.reshape(X_train.shape[0], 28*28)\n",
        "X_test = X_test.reshape(X_test.shape[0], 28*28)\n",
        "#scaling to have range of [0:1]\n",
        "X_train_scaled = X_train.astype('float32') / 255.0\n",
        "X_test_scaled = X_test.astype('float32') / 255.0\n",
        "#getting less data for time\n",
        "X_train_less = X_train_scaled[0:1000,:]\n",
        "X_test_less = X_test_scaled[0:200,:]\n",
        "y_train_less = y_train[0:1000]\n",
        "y_test_less = y_test[0:200]\n",
        "#normalization\n",
        "X_train_less = preprocessing.normalize(X_train_less).tolist()\n",
        "X_test_less = preprocessing.normalize(X_test_less).tolist()\n",
        "y_train_less = y_train[0:1000].tolist()\n",
        "y_test_less = y_test[0:200].tolist()"
      ],
      "metadata": {
        "colab": {
          "base_uri": "https://localhost:8080/"
        },
        "id": "gHx94ANF2nhD",
        "outputId": "bc52e899-0744-4db7-a406-f0e4b54a767f"
      },
      "execution_count": null,
      "outputs": [
        {
          "output_type": "stream",
          "name": "stdout",
          "text": [
            "x train: (56000, 784)\n",
            "y train: (56000,)\n",
            "x test: (14000, 784)\n",
            "x test: (14000,)\n",
            "x train max: 255.0\n",
            "x train min: 0.0\n",
            "y train max: 9\n",
            "y train min: 0\n"
          ]
        }
      ]
    },
    {
      "cell_type": "markdown",
      "source": [
        "**Applying my Bayesian classifier on mnist**"
      ],
      "metadata": {
        "id": "trFPUyI2BEhJ"
      }
    },
    {
      "cell_type": "markdown",
      "source": [
        "Pre-processing "
      ],
      "metadata": {
        "id": "i7ACClTPdSI0"
      }
    },
    {
      "cell_type": "code",
      "source": [
        "X_train = X_train_less\n",
        "X_test = X_test_less\n",
        "y_train = y_train_less\n",
        "y_test = y_test_less\n",
        "\n",
        "y_train = [eval(i) for i in y_train]\n",
        "y_test = [eval(i) for i in y_test]"
      ],
      "metadata": {
        "id": "03rpqh1QdRXm"
      },
      "execution_count": null,
      "outputs": []
    },
    {
      "cell_type": "markdown",
      "source": [
        "Applying"
      ],
      "metadata": {
        "id": "44uksebieJMX"
      }
    },
    {
      "cell_type": "code",
      "source": [
        "# Instantiate the classifier and fit it to the training data\n",
        "bc = BayesianClassifier()\n",
        "bc.fit(X_train, y_train)\n",
        "\n",
        "# Make predictions on the test set\n",
        "y_pred = bc.predict(X_test)\n",
        "\n",
        "# Evaluate the model's performance\n",
        "print(\"Accuracy:\", str(accuracy_score(y_test, y_pred)*100)+'%')"
      ],
      "metadata": {
        "colab": {
          "base_uri": "https://localhost:8080/"
        },
        "id": "szORzM4DEVZc",
        "outputId": "7a483b0c-e72d-454a-a1fe-37b4de99495f"
      },
      "execution_count": null,
      "outputs": [
        {
          "output_type": "stream",
          "name": "stderr",
          "text": [
            "<ipython-input-250-eafb7fe92c0c>:26: RuntimeWarning: divide by zero encountered in true_divide\n",
            "  likelihood.append(np.exp(- (X - mean) ** 2 / (2 * var)) / np.sqrt(2 * np.pi * var))\n",
            "<ipython-input-250-eafb7fe92c0c>:26: RuntimeWarning: invalid value encountered in true_divide\n",
            "  likelihood.append(np.exp(- (X - mean) ** 2 / (2 * var)) / np.sqrt(2 * np.pi * var))\n"
          ]
        },
        {
          "output_type": "stream",
          "name": "stdout",
          "text": [
            "Accuracy: 12.642857142857142%\n"
          ]
        }
      ]
    },
    {
      "cell_type": "markdown",
      "source": [
        "**Scores**"
      ],
      "metadata": {
        "id": "9b-H_X81es4O"
      }
    },
    {
      "cell_type": "markdown",
      "source": [
        "Confusion matrix"
      ],
      "metadata": {
        "id": "cNlULdjAfSlv"
      }
    },
    {
      "cell_type": "code",
      "source": [
        "cm = confusion_matrix(y_test,y_pred)\n",
        "print(\"Confusion Matrix:\")\n",
        "print(cm)"
      ],
      "metadata": {
        "colab": {
          "base_uri": "https://localhost:8080/"
        },
        "id": "k5QwN6UdeuBo",
        "outputId": "5d55b808-1dac-449e-f22a-15552e47acee"
      },
      "execution_count": null,
      "outputs": [
        {
          "output_type": "stream",
          "name": "stdout",
          "text": [
            "Confusion Matrix:\n",
            "[[ 170 1173    0    0    0    0    0    0    0    0]\n",
            " [   0 1600    0    0    0    0    0    0    0    0]\n",
            " [   0 1380    0    0    0    0    0    0    0    0]\n",
            " [   0 1433    0    0    0    0    0    0    0    0]\n",
            " [   0 1295    0    0    0    0    0    0    0    0]\n",
            " [   0 1273    0    0    0    0    0    0    0    0]\n",
            " [   1 1395    0    0    0    0    0    0    0    0]\n",
            " [   0 1503    0    0    0    0    0    0    0    0]\n",
            " [   2 1355    0    0    0    0    0    0    0    0]\n",
            " [   1 1419    0    0    0    0    0    0    0    0]]\n"
          ]
        }
      ]
    },
    {
      "cell_type": "code",
      "source": [
        "sns.heatmap(cm,cmap=\"Greens\",annot=True,\n",
        "            cbar_kws={\"orientation\":\"vertical\",\"label\":\"color bar\"},\n",
        "            xticklabels=[0,1],yticklabels=[0,1])\n",
        "plt.xlabel(\"Predicted\")\n",
        "plt.ylabel(\"Actual\")\n",
        "plt.title(\"Confusion Matrix\")\n",
        "plt.show()"
      ],
      "metadata": {
        "colab": {
          "base_uri": "https://localhost:8080/",
          "height": 295
        },
        "id": "7dVUHQoVT9Oj",
        "outputId": "8d3a1df0-cb80-4e25-b922-4f3053f3e58f"
      },
      "execution_count": null,
      "outputs": [
        {
          "output_type": "display_data",
          "data": {
            "text/plain": [
              "<Figure size 432x288 with 2 Axes>"
            ],
            "image/png": "[encoded data removed]"
          },
          "metadata": {
            "needs_background": "light"
          }
        }
      ]
    },
    {
      "cell_type": "markdown",
      "source": [
        "Normalized confusion matrix"
      ],
      "metadata": {
        "id": "Tl3e0xSuHEmU"
      }
    },
    {
      "cell_type": "code",
      "source": [
        "print(\"Normalized Confusion Matrix:\")\n",
        "cm_normalized=np.round(cm/np.sum(cm,axis=1).reshape(-1,1),2)\n",
        "print(cm_normalized)"
      ],
      "metadata": {
        "colab": {
          "base_uri": "https://localhost:8080/"
        },
        "id": "_hzkjfFAFH5y",
        "outputId": "db5d40c1-4e47-499f-e0aa-b54f2db1550b"
      },
      "execution_count": null,
      "outputs": [
        {
          "output_type": "stream",
          "name": "stdout",
          "text": [
            "Normalized Confusion Matrix:\n",
            "[[0.13 0.87 0.   0.   0.   0.   0.   0.   0.   0.  ]\n",
            " [0.   1.   0.   0.   0.   0.   0.   0.   0.   0.  ]\n",
            " [0.   1.   0.   0.   0.   0.   0.   0.   0.   0.  ]\n",
            " [0.   1.   0.   0.   0.   0.   0.   0.   0.   0.  ]\n",
            " [0.   1.   0.   0.   0.   0.   0.   0.   0.   0.  ]\n",
            " [0.   1.   0.   0.   0.   0.   0.   0.   0.   0.  ]\n",
            " [0.   1.   0.   0.   0.   0.   0.   0.   0.   0.  ]\n",
            " [0.   1.   0.   0.   0.   0.   0.   0.   0.   0.  ]\n",
            " [0.   1.   0.   0.   0.   0.   0.   0.   0.   0.  ]\n",
            " [0.   1.   0.   0.   0.   0.   0.   0.   0.   0.  ]]\n"
          ]
        }
      ]
    },
    {
      "cell_type": "markdown",
      "source": [
        "Normalized confusion matrix heatmap"
      ],
      "metadata": {
        "id": "FzFKOE_pHI6i"
      }
    },
    {
      "cell_type": "code",
      "source": [
        "sns.heatmap(cm_normalized, cmap=\"Greens\", annot=True,\n",
        "            cbar_kws={\"orientation\": \"vertical\", \"label\": \"color bar\"},\n",
        "            xticklabels=[0, 1], yticklabels=[0, 1])\n",
        "plt.xlabel(\"Predicted\")\n",
        "plt.ylabel(\"Actual\")\n",
        "plt.title(\"Normalized Confusion Matrix\")\n",
        "plt.show()"
      ],
      "metadata": {
        "colab": {
          "base_uri": "https://localhost:8080/",
          "height": 295
        },
        "id": "tBM-FRK5HKgM",
        "outputId": "363de81b-8c7c-42d5-a6ca-53c7f9dee16c"
      },
      "execution_count": null,
      "outputs": [
        {
          "output_type": "display_data",
          "data": {
            "text/plain": [
              "<Figure size 432x288 with 2 Axes>"
            ],
            "image/png": "[encoded data removed]"
          },
          "metadata": {
            "needs_background": "light"
          }
        }
      ]
    },
    {
      "cell_type": "markdown",
      "source": [
        "f1 score"
      ],
      "metadata": {
        "id": "RLSoMeJyfsAb"
      }
    },
    {
      "cell_type": "code",
      "source": [
        "f1_scoree = f1_score(np.array(y_test),y_pred,average=None)\n",
        "print(\"f1 score:\",f1_scoree)"
      ],
      "metadata": {
        "colab": {
          "base_uri": "https://localhost:8080/"
        },
        "id": "khK3S247Im4O",
        "outputId": "8018ee41-a27f-4f41-a7dd-7ec7b3889d96"
      },
      "execution_count": null,
      "outputs": [
        {
          "output_type": "stream",
          "name": "stdout",
          "text": [
            "f1 score: [0.22412657 0.20744198 0.         0.         0.         0.\n",
            " 0.         0.         0.         0.        ]\n"
          ]
        }
      ]
    },
    {
      "cell_type": "markdown",
      "source": [
        "Others"
      ],
      "metadata": {
        "id": "7k-BUy1Pgn5Z"
      }
    },
    {
      "cell_type": "code",
      "source": [
        "print(classification_report(y_test,y_pred))"
      ],
      "metadata": {
        "colab": {
          "base_uri": "https://localhost:8080/"
        },
        "id": "bqSVKfMJgpKc",
        "outputId": "a5df526e-9527-4262-8a5d-456ac6475298"
      },
      "execution_count": null,
      "outputs": [
        {
          "output_type": "stream",
          "name": "stdout",
          "text": [
            "              precision    recall  f1-score   support\n",
            "\n",
            "           0       0.98      0.13      0.22      1343\n",
            "           1       0.12      1.00      0.21      1600\n",
            "           2       0.00      0.00      0.00      1380\n",
            "           3       0.00      0.00      0.00      1433\n",
            "           4       0.00      0.00      0.00      1295\n",
            "           5       0.00      0.00      0.00      1273\n",
            "           6       0.00      0.00      0.00      1396\n",
            "           7       0.00      0.00      0.00      1503\n",
            "           8       0.00      0.00      0.00      1357\n",
            "           9       0.00      0.00      0.00      1420\n",
            "\n",
            "    accuracy                           0.13     14000\n",
            "   macro avg       0.11      0.11      0.04     14000\n",
            "weighted avg       0.11      0.13      0.05     14000\n",
            "\n"
          ]
        },
        {
          "output_type": "stream",
          "name": "stderr",
          "text": [
            "/usr/local/lib/python3.8/dist-packages/sklearn/metrics/_classification.py:1318: UndefinedMetricWarning: Precision and F-score are ill-defined and being set to 0.0 in labels with no predicted samples. Use `zero_division` parameter to control this behavior.\n",
            "  _warn_prf(average, modifier, msg_start, len(result))\n",
            "/usr/local/lib/python3.8/dist-packages/sklearn/metrics/_classification.py:1318: UndefinedMetricWarning: Precision and F-score are ill-defined and being set to 0.0 in labels with no predicted samples. Use `zero_division` parameter to control this behavior.\n",
            "  _warn_prf(average, modifier, msg_start, len(result))\n",
            "/usr/local/lib/python3.8/dist-packages/sklearn/metrics/_classification.py:1318: UndefinedMetricWarning: Precision and F-score are ill-defined and being set to 0.0 in labels with no predicted samples. Use `zero_division` parameter to control this behavior.\n",
            "  _warn_prf(average, modifier, msg_start, len(result))\n"
          ]
        }
      ]
    },
    {
      "cell_type": "markdown",
      "source": [
        "**Applying sklearn Bayesian classifier on mnist**"
      ],
      "metadata": {
        "id": "WnpHxtRpEdB1"
      }
    },
    {
      "cell_type": "code",
      "source": [
        "# Create an instance of the GaussianNB class\n",
        "clf = GaussianNB()\n",
        "\n",
        "# Train the classifier on the training data\n",
        "clf.fit(X_train, y_train)\n",
        "\n",
        "# Use the classifier to predict the class labels of the test set\n",
        "y_pred = clf.predict(X_test)\n",
        "\n",
        "# Evaluate the classifier's performance\n",
        "accuracy = metrics.accuracy_score(y_test, y_pred)\n",
        "\n",
        "print(\"Accuracy:\", str(accuracy*100)+'%')"
      ],
      "metadata": {
        "colab": {
          "base_uri": "https://localhost:8080/"
        },
        "id": "XidUnAAuEdB2",
        "outputId": "082022d2-bec1-4fff-c169-92ffad6bbad5"
      },
      "execution_count": null,
      "outputs": [
        {
          "output_type": "stream",
          "name": "stdout",
          "text": [
            "Accuracy: 55.15714285714286%\n"
          ]
        }
      ]
    },
    {
      "cell_type": "markdown",
      "source": [
        "**Scores**"
      ],
      "metadata": {
        "id": "ONsw1y2HiO8D"
      }
    },
    {
      "cell_type": "markdown",
      "source": [
        "Confusion matrix"
      ],
      "metadata": {
        "id": "5TRZvJEWiO8E"
      }
    },
    {
      "cell_type": "code",
      "source": [
        "cm = confusion_matrix(y_test,y_pred)\n",
        "print(\"Confusion Matrix:\")\n",
        "print(cm)"
      ],
      "metadata": {
        "colab": {
          "base_uri": "https://localhost:8080/"
        },
        "outputId": "cc6233c7-d221-446b-cadf-1b2c28cd3e8a",
        "id": "UOs1wjygiO8E"
      },
      "execution_count": null,
      "outputs": [
        {
          "output_type": "stream",
          "name": "stdout",
          "text": [
            "Confusion Matrix:\n",
            "[[1218    2    9    2    4    2   52    2   32   20]\n",
            " [   2 1520    3    5    0    4   15    1   39   11]\n",
            " [ 142   40  408  102    5    5  331    0  327   20]\n",
            " [ 118   66   12  462    2    8   90    9  496  170]\n",
            " [  51    7   15    6  170    7  146    5  278  610]\n",
            " [ 183   31   10   18    4   56   77    3  757  134]\n",
            " [  16   25    6    0    2    4 1316    0   24    3]\n",
            " [   8   10    3   16    8    3    1  417   50  987]\n",
            " [  28  160    5    9    3    3   30    3  816  300]\n",
            " [   9    8    7    4    8    0    1   20   24 1339]]\n"
          ]
        }
      ]
    },
    {
      "cell_type": "code",
      "source": [
        "sns.heatmap(cm,cmap=\"Greens\",annot=True,\n",
        "            cbar_kws={\"orientation\":\"vertical\",\"label\":\"color bar\"},\n",
        "            xticklabels=[0,1],yticklabels=[0,1])\n",
        "plt.xlabel(\"Predicted\")\n",
        "plt.ylabel(\"Actual\")\n",
        "plt.title(\"Confusion Matrix\")\n",
        "plt.show()"
      ],
      "metadata": {
        "colab": {
          "base_uri": "https://localhost:8080/",
          "height": 295
        },
        "outputId": "dfce21fb-b9f8-4753-ded1-69b3e2de325c",
        "id": "weWArePviO8F"
      },
      "execution_count": null,
      "outputs": [
        {
          "output_type": "display_data",
          "data": {
            "text/plain": [
              "<Figure size 432x288 with 2 Axes>"
            ],
            "image/png": "[encoded data removed]"
          },
          "metadata": {
            "needs_background": "light"
          }
        }
      ]
    },
    {
      "cell_type": "markdown",
      "source": [
        "Normalized confusion matrix"
      ],
      "metadata": {
        "id": "rvgnIkWFiO8F"
      }
    },
    {
      "cell_type": "code",
      "source": [
        "print(\"Normalized Confusion Matrix:\")\n",
        "cm_normalized=np.round(cm/np.sum(cm,axis=1).reshape(-1,1),2)\n",
        "print(cm_normalized)"
      ],
      "metadata": {
        "colab": {
          "base_uri": "https://localhost:8080/"
        },
        "outputId": "0e2091e7-29c0-4d8a-b00b-e78e4804750c",
        "id": "Bq-GwW0ZiO8F"
      },
      "execution_count": null,
      "outputs": [
        {
          "output_type": "stream",
          "name": "stdout",
          "text": [
            "Normalized Confusion Matrix:\n",
            "[[0.91 0.   0.01 0.   0.   0.   0.04 0.   0.02 0.01]\n",
            " [0.   0.95 0.   0.   0.   0.   0.01 0.   0.02 0.01]\n",
            " [0.1  0.03 0.3  0.07 0.   0.   0.24 0.   0.24 0.01]\n",
            " [0.08 0.05 0.01 0.32 0.   0.01 0.06 0.01 0.35 0.12]\n",
            " [0.04 0.01 0.01 0.   0.13 0.01 0.11 0.   0.21 0.47]\n",
            " [0.14 0.02 0.01 0.01 0.   0.04 0.06 0.   0.59 0.11]\n",
            " [0.01 0.02 0.   0.   0.   0.   0.94 0.   0.02 0.  ]\n",
            " [0.01 0.01 0.   0.01 0.01 0.   0.   0.28 0.03 0.66]\n",
            " [0.02 0.12 0.   0.01 0.   0.   0.02 0.   0.6  0.22]\n",
            " [0.01 0.01 0.   0.   0.01 0.   0.   0.01 0.02 0.94]]\n"
          ]
        }
      ]
    },
    {
      "cell_type": "markdown",
      "source": [
        "Normalized confusion matrix heatmap"
      ],
      "metadata": {
        "id": "eja-uIwKiO8F"
      }
    },
    {
      "cell_type": "code",
      "source": [
        "sns.heatmap(cm_normalized, cmap=\"Greens\", annot=True,\n",
        "            cbar_kws={\"orientation\": \"vertical\", \"label\": \"color bar\"},\n",
        "            xticklabels=[0, 1], yticklabels=[0, 1])\n",
        "plt.xlabel(\"Predicted\")\n",
        "plt.ylabel(\"Actual\")\n",
        "plt.title(\"Normalized Confusion Matrix\")\n",
        "plt.show()"
      ],
      "metadata": {
        "colab": {
          "base_uri": "https://localhost:8080/",
          "height": 295
        },
        "outputId": "bcff5c8b-62ae-42f6-aa21-379227a435b6",
        "id": "h0vhcoigiO8G"
      },
      "execution_count": null,
      "outputs": [
        {
          "output_type": "display_data",
          "data": {
            "text/plain": [
              "<Figure size 432x288 with 2 Axes>"
            ],
            "image/png": "[encoded data removed]"
          },
          "metadata": {
            "needs_background": "light"
          }
        }
      ]
    },
    {
      "cell_type": "markdown",
      "source": [
        "f1 score"
      ],
      "metadata": {
        "id": "EtgeRbe0iO8G"
      }
    },
    {
      "cell_type": "code",
      "source": [
        "f1_scoree = f1_score(np.array(y_test),y_pred,average=None)\n",
        "print(\"f1 score:\",f1_scoree)"
      ],
      "metadata": {
        "colab": {
          "base_uri": "https://localhost:8080/"
        },
        "outputId": "4bdb2472-8c21-4c9b-d5ce-071199b26313",
        "id": "3T5VnEwPiO8G"
      },
      "execution_count": null,
      "outputs": [
        {
          "output_type": "stream",
          "name": "stdout",
          "text": [
            "f1 score: [0.78127004 0.87633324 0.43918192 0.44919786 0.22651566 0.08205128\n",
            " 0.7617945  0.42485991 0.38857143 0.53410451]\n"
          ]
        }
      ]
    },
    {
      "cell_type": "markdown",
      "source": [
        "Others"
      ],
      "metadata": {
        "id": "8xol2RYDiO8G"
      }
    },
    {
      "cell_type": "code",
      "source": [
        "print(classification_report(y_test,y_pred))"
      ],
      "metadata": {
        "colab": {
          "base_uri": "https://localhost:8080/"
        },
        "outputId": "a476ac37-e977-4af8-c134-6e829ef4dda9",
        "id": "LHrEp14IiO8G"
      },
      "execution_count": null,
      "outputs": [
        {
          "output_type": "stream",
          "name": "stdout",
          "text": [
            "              precision    recall  f1-score   support\n",
            "\n",
            "           0       0.69      0.91      0.78      1343\n",
            "           1       0.81      0.95      0.88      1600\n",
            "           2       0.85      0.30      0.44      1380\n",
            "           3       0.74      0.32      0.45      1433\n",
            "           4       0.83      0.13      0.23      1295\n",
            "           5       0.61      0.04      0.08      1273\n",
            "           6       0.64      0.94      0.76      1396\n",
            "           7       0.91      0.28      0.42      1503\n",
            "           8       0.29      0.60      0.39      1357\n",
            "           9       0.37      0.94      0.53      1420\n",
            "\n",
            "    accuracy                           0.55     14000\n",
            "   macro avg       0.67      0.54      0.50     14000\n",
            "weighted avg       0.68      0.55      0.51     14000\n",
            "\n"
          ]
        }
      ]
    },
    {
      "cell_type": "markdown",
      "source": [
        "**Comments**"
      ],
      "metadata": {
        "id": "9PkrdqZ-jQJJ"
      }
    },
    {
      "cell_type": "markdown",
      "source": [
        "\n",
        "\n",
        "```\n",
        "1. I applied my baysian classifier and skelearn baysian classifier on IRIS data and mnist data, then showed accuracy, confusion matrix, f1 score and, others.\n",
        "2. I used 2 datasets to show that the model can do well, but accuracy with mnist is worse than accuracy with IRIS.\n",
        "3. I used my model and sklearn, so I can judge how good or bad my model.\n",
        "4. After a lot of trials, my model accuracy with mnist is still bad, but with IRIS, it was so good.\n",
        "\n"
      ],
      "metadata": {
        "id": "Kc-2b6CTrTGl"
      }
    }
  ]
}