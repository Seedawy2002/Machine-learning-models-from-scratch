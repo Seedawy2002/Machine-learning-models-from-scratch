{
  "nbformat": 4,
  "nbformat_minor": 0,
  "metadata": {
    "colab": {
      "provenance": []
    },
    "kernelspec": {
      "name": "python3",
      "display_name": "Python 3"
    },
    "language_info": {
      "name": "python"
    }
  },
  "cells": [
    {
      "cell_type": "markdown",
      "source": [
        "\n",
        "#1-Generate a sample by equation\n",
        "\n",
        "\n",
        "> *y=w1X1+w2X2+....+b*\n",
        "\n",
        "\n",
        "\n",
        "\n",
        "\n",
        "#2-Generate random number for Xs\n",
        "\n",
        "#3-Apply Linear Regression\n",
        "\n",
        "#4-Proof the same equatio will return using generated sample datasets\n",
        "\n"
      ],
      "metadata": {
        "id": "2JdegCfYrwFQ"
      }
    },
    {
      "cell_type": "markdown",
      "source": [
        "#Apply that Algorithm for 1 D , 2 D hyper plain\n"
      ],
      "metadata": {
        "id": "B1Nl5K77rol_"
      }
    },
    {
      "cell_type": "markdown",
      "source": [
        "Note: This code can be used as 1D or 2D (hyper plain) according to the input of the user in ['Enter number of xs: ']"
      ],
      "metadata": {
        "id": "Xs51HzECqrth"
      }
    },
    {
      "cell_type": "code",
      "source": [
        "#importing for needed libraries\n",
        "import numpy as np\n",
        "import random as rd\n",
        "\n",
        "#getting important data from the user & handling errors\n",
        "n = int(input(\"Enter number of xs: \"))\n",
        "while(n!=1 and n!=2):\n",
        "  print(\"Error! Enter 1 or 2! Try again!\")\n",
        "  n = int(input(\"Enter number of xs: \"))\n",
        "\n",
        "x_length = int(input(\"Enter the length of xs: \"))\n",
        "while(x_length < 1):\n",
        "  print(\"Error! Enter valid length! Try again!\")\n",
        "  x_length = int(input(\"Enter the length of xs: \"))\n",
        "\n",
        "#preparing variables\n",
        "ones = [1] * x_length\n",
        "x = [0] * x_length\n",
        "y = [0] * x_length\n",
        "i = 0\n",
        "needed_list=[]\n",
        "needed_matrix=[]\n",
        "\n",
        "#applying 1D or 2D (hyper plain) according to user's input\n",
        "if (n == 1): \n",
        "  print(\"1D:\")\n",
        "elif (n == 2):\n",
        "  print(\"2D (hyper plain):\")\n",
        "\n",
        "while(i<n):\n",
        "  print(\"x%i:\"%(i+1))\n",
        "  #getting a\n",
        "  a = float(input(\"Enter a: \"))\n",
        "  needed_list.append(a)\n",
        "  #putting x\n",
        "  for j in range(x_length):\n",
        "    x[j] = rd.random()\n",
        "  #getting x matrix\n",
        "  needed_matrix.append(x.copy()) \n",
        "  y = [m + a * n for m, n in zip(y, x)]\n",
        "  i+=1\n",
        "#putting ones columns\n",
        "needed_matrix.append(ones)\n",
        "#getting b\n",
        "b = float(input(\"Enter b: \"))\n",
        "#getting w\n",
        "needed_list.append(b)\n",
        "b_list = [b] * x_length\n",
        "#getting y\n",
        "y = [l + k for l, k in zip(y, b_list)]"
      ],
      "metadata": {
        "id": "3qCcpbhKtugj",
        "colab": {
          "base_uri": "https://localhost:8080/"
        },
        "outputId": "f05df90c-33e9-43fb-c6a8-4924e65f5ace"
      },
      "execution_count": null,
      "outputs": [
        {
          "name": "stdout",
          "output_type": "stream",
          "text": [
            "Enter number of xs: 2\n",
            "Enter the length of xs: 10\n",
            "2D (hyper plain):\n",
            "x1:\n",
            "Enter a: 5\n",
            "x2:\n",
            "Enter a: 9\n",
            "Enter b: 4\n"
          ]
        }
      ]
    },
    {
      "cell_type": "code",
      "source": [
        "#Showing original x matrix\n",
        "x_new = np.transpose(needed_matrix)\n",
        "print(\"Original x matrix\")\n",
        "print(x_new)"
      ],
      "metadata": {
        "colab": {
          "base_uri": "https://localhost:8080/"
        },
        "id": "EqBVMvVsnmwh",
        "outputId": "fcc0130b-9ff2-407f-ddd6-05ce95b07d15"
      },
      "execution_count": null,
      "outputs": [
        {
          "output_type": "stream",
          "name": "stdout",
          "text": [
            "Original x matrix\n",
            "[[0.72849054 0.70218172 1.        ]\n",
            " [0.6075797  0.84588869 1.        ]\n",
            " [0.73517114 0.09163467 1.        ]\n",
            " [0.45159471 0.97377937 1.        ]\n",
            " [0.43970647 0.16186938 1.        ]\n",
            " [0.16511584 0.93013426 1.        ]\n",
            " [0.9293519  0.6492666  1.        ]\n",
            " [0.13095485 0.50653031 1.        ]\n",
            " [0.71564024 0.96295213 1.        ]\n",
            " [0.67983261 0.23096278 1.        ]]\n"
          ]
        }
      ]
    },
    {
      "cell_type": "code",
      "source": [
        "#Showing original y vector\n",
        "print(\"Original y:\")\n",
        "y_vector = []\n",
        "y_vector.append(y.copy())\n",
        "y_vector = np.transpose(y_vector)\n",
        "print(y_vector)"
      ],
      "metadata": {
        "colab": {
          "base_uri": "https://localhost:8080/"
        },
        "id": "lIw86bdKh36G",
        "outputId": "e33afd89-2e94-4d12-c5f6-2f0d3283d786"
      },
      "execution_count": null,
      "outputs": [
        {
          "output_type": "stream",
          "name": "stdout",
          "text": [
            "Original y:\n",
            "[[13.96208818]\n",
            " [14.6508967 ]\n",
            " [ 8.50056772]\n",
            " [15.02198792]\n",
            " [ 7.65535675]\n",
            " [13.19678756]\n",
            " [14.49015892]\n",
            " [ 9.21354703]\n",
            " [16.2447704 ]\n",
            " [ 9.47782808]]\n"
          ]
        }
      ]
    },
    {
      "cell_type": "code",
      "source": [
        "#Showing original w vector\n",
        "print(\"Original w:\")\n",
        "w_vector = []\n",
        "w_vector.append(needed_list.copy())\n",
        "w_vector = np.transpose(w_vector)\n",
        "print(w_vector)"
      ],
      "metadata": {
        "colab": {
          "base_uri": "https://localhost:8080/"
        },
        "id": "EHZ4v2UUoeor",
        "outputId": "4b9fb6a4-2598-42b8-d02a-02c1dfdc656e"
      },
      "execution_count": null,
      "outputs": [
        {
          "output_type": "stream",
          "name": "stdout",
          "text": [
            "Original w:\n",
            "[[5.]\n",
            " [9.]\n",
            " [4.]]\n"
          ]
        }
      ]
    },
    {
      "cell_type": "code",
      "source": [
        "#getting new y\n",
        "random_list = [0] * x_length\n",
        "for k in range(x_length):\n",
        "    random_list[k] = rd.random()\n",
        "y_new = [n1 + n2 for n1, n2 in zip(y, random_list)]"
      ],
      "metadata": {
        "id": "qHO2a966tut4"
      },
      "execution_count": null,
      "outputs": []
    },
    {
      "cell_type": "code",
      "source": [
        "#Showing new y vector\n",
        "print(\"New y:\")\n",
        "y_new_new = []\n",
        "y_new_new.append(y_new)\n",
        "y_new_new = np.transpose(y_new_new)\n",
        "print(y_new_new)"
      ],
      "metadata": {
        "colab": {
          "base_uri": "https://localhost:8080/"
        },
        "id": "dducNOmCqcsG",
        "outputId": "e640f8a0-a901-42a0-c35b-c549d4ee515e"
      },
      "execution_count": null,
      "outputs": [
        {
          "output_type": "stream",
          "name": "stdout",
          "text": [
            "New y:\n",
            "[[14.32112457]\n",
            " [15.03580145]\n",
            " [ 9.03527741]\n",
            " [15.31405806]\n",
            " [ 8.00083535]\n",
            " [14.00876902]\n",
            " [15.23014726]\n",
            " [ 9.732656  ]\n",
            " [16.69553095]\n",
            " [10.36521762]]\n"
          ]
        }
      ]
    },
    {
      "cell_type": "code",
      "source": [
        "#getting new w vector\n",
        "ws = np.linalg.inv(x_new.T@x_new)@x_new.T@y_new_new"
      ],
      "metadata": {
        "id": "06fW4t-nqnJE"
      },
      "execution_count": null,
      "outputs": []
    },
    {
      "cell_type": "code",
      "source": [
        "#Showing new w vector\n",
        "print(\"w output:\")\n",
        "print(ws)"
      ],
      "metadata": {
        "colab": {
          "base_uri": "https://localhost:8080/"
        },
        "id": "tzVGCKuCFYEi",
        "outputId": "1f01b281-efa4-4fbe-c88c-a8d63c7e3766"
      },
      "execution_count": null,
      "outputs": [
        {
          "output_type": "stream",
          "name": "stdout",
          "text": [
            "w output:\n",
            "[[5.00373516]\n",
            " [8.88599778]\n",
            " [4.59948796]]\n"
          ]
        }
      ]
    },
    {
      "cell_type": "markdown",
      "source": [
        "##Refrences\n",
        "\n",
        "https://machinelearningmastery.com/linear-regression-for-machine-learning/\n",
        "\n",
        "https://towardsdatascience.com/linear-regression-derivation-d362ea3884c2\n",
        "\n"
      ],
      "metadata": {
        "id": "OboYZYGvv6UZ"
      }
    }
  ]
}